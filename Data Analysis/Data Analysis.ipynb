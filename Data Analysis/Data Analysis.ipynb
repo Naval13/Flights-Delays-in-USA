{
 "cells": [
  {
   "cell_type": "markdown",
   "metadata": {},
   "source": [
    "# Analysing Flight-delays data"
   ]
  },
  {
   "cell_type": "markdown",
   "metadata": {},
   "source": [
    "# Table of contents<a class=\"anchor\" id=\"table\"></a>\n",
    "\n",
    "* [1 Working with RDD](#1)\n",
    "* [1.1 Data Preparation and Loading](#1.1)\n",
    "* [1.1.1 Creating SparkSession & SparkContext](#OneOneOne)\n",
    "* [1.1.2 Read CSV files, Preprocessing, and final(formatted data) RDD for each file](#OneOneTwo)\n",
    "* [1.1.2.1 Flights RDD](#1.1.2.1)\n",
    "* [1.1.2.2 Airports RDD](#1.1.2.2)\n",
    "* [1.1.3 Show RDD number of columns, and number of records](#1.1.3)\n",
    "* [1.2 Dataset flights partitioning](#1.2)\n",
    "* [1.2.1 Obtain the maximum arrival time ](#1.2.1)\n",
    "* [1.2.2 Obtain the maximum minimum time ](#1.2.2)\n",
    "* [1.2.3 Define hash partitioning](#1.2.3)\n",
    "* [1.2.4 Display the records in each partition](#1.2.4)\n",
    "* [1.3 Query RDD](#1.3)\n",
    "* [1.3.1 Collect a total number of flights for each month for all flights](#1.3.1)\n",
    "* [1.3.2 Collect the average delay for each month for all flights](#1.3.2)\n",
    "* [2 Working with DataFrames](#2)\n",
    "* [2.1 Data Preparation and Loading](#2.1)\n",
    "* [2.1.1 Define DataFrames](#2.1.1)\n",
    "* [2.1.2 Display the Scheme of DataFrames](#2.1.2)\n",
    "* [2.1.3 Transform date-time and location column](#2.1.3)\n",
    "* [2.2.1 January Flights Events with ANC airport](#2.2.1)\n",
    "* [2.2.2 Average Arrival Delay From Origin to Destination](#2.2.2)\n",
    "* [2.2.3 Join Query with Airports DataFrame](#2.2.3)\n",
    "* [2.3 Analysis](#2.3.1)\n",
    "* [2.3.1 Relationship between day of week with mean arrival delay, total time delay, and count flights](#2.3.1)\n",
    "* [2.3.2 Display mean arrival delay each month](#2.3.2)\n",
    "* [2.3.3 Relationship between mean departure delay and mean arrival delay](#2.3.3)\n",
    "* [3 RDDs vs DataFrame vs Spark SQL](#3)\n",
    "* [3.1 RDD Operation](#3.1)\n",
    "* [3.2 DataFrame Operation](#3.1)\n",
    "* [3.3 Spark SQL Operation](#3.1)\n",
    "* [3.4 Discussion](#3.1)"
   ]
  },
  {
   "cell_type": "markdown",
   "metadata": {},
   "source": [
    "\n",
    "# 1 Working with RDD<a class=\"anchor\" id=\"1\"></a>\n",
    "## 1.1 Data Preparation and Loading<a class=\"anchor\" id=\"1.1\"></a>\n",
    "### 1.1.1 Create SparkSession and SparkContext<a class=\"anchor\" id=\"OneOneOne\"></a>\n",
    "[Back to top](#table)"
   ]
  },
  {
   "cell_type": "code",
   "execution_count": 1,
   "metadata": {},
   "outputs": [],
   "source": [
    "# Import SparkConf class into program\n",
    "from pyspark import SparkConf\n",
    "\n",
    "# local[*]: run Spark in local mode with as many working processors as logical cores on your machine\n",
    "# If we want Spark to run locally with 'k' worker threads, we can specify as \"local[k]\".\n",
    "master = \"local[*]\"\n",
    "# The `appName` field is a name to be shown on the Spark cluster UI page\n",
    "app_name = \"Data Analysis\"\n",
    "# Setup configuration parameters for Spark\n",
    "spark_conf = SparkConf().setMaster(master).setAppName(app_name)\n",
    "\n",
    "# Import SparkContext and SparkSession classes\n",
    "from pyspark import SparkContext # Spark\n",
    "from pyspark.sql import SparkSession # Spark SQL\n",
    "\n",
    "# Method 1: Using SparkSession\n",
    "spark = SparkSession.builder.config(conf=spark_conf).getOrCreate()\n",
    "sc = spark.sparkContext\n",
    "sc.setLogLevel('ERROR')"
   ]
  },
  {
   "cell_type": "markdown",
   "metadata": {},
   "source": [
    "### 1.1.2 Import CSV files and Make RDD for each file<a class=\"anchor\" id=\"OneOneTwo\"></a>\n",
    "[Back to top](#table)"
   ]
  },
  {
   "cell_type": "code",
   "execution_count": 2,
   "metadata": {},
   "outputs": [],
   "source": [
    "from pyspark.rdd import RDD\n",
    "\n",
    "# This method is used to make rdd objects, load datasets, filter without headers and split into columns  \n",
    "def makeRDD(filepath):\n",
    "    # Importing the .csv files in the rdd object\n",
    "    rdd = sc.textFile(filepath)\n",
    "    \n",
    "    # Taking the header row\n",
    "    header = rdd.first()\n",
    "    # Filtering the header row from the rest of the data\n",
    "    rdd = rdd.filter(lambda x: x != header)\n",
    "\n",
    "    # Splitting each line with comma to convert into rows and column \n",
    "    rdd = rdd.map(lambda line: line.split(','))\n",
    "    \n",
    "    # return the filterred rdd\n",
    "    return rdd\n",
    "    "
   ]
  },
  {
   "cell_type": "markdown",
   "metadata": {},
   "source": [
    "### For Data Cleaning and Pre-processing the dataset"
   ]
  },
  {
   "cell_type": "code",
   "execution_count": 3,
   "metadata": {},
   "outputs": [],
   "source": [
    "# Converting datatypes to int or float\n",
    "def typeCastColumns(rdd):\n",
    "    rdd = rdd.map(lambda x: (int(x[0]), int(x[1]), int(x[2]), int(x[3]), x[4], int(x[5]), x[6], x[7], x[8], x[9], x[10], \n",
    "                                        float(x[11].strip(\"\")), float(x[12].strip(\"\")), x[13], x[14], float(x[15].strip(\"\")), float(x[16].strip(\"\")), float(x[17].strip(\"\")), x[18], float(x[19].strip(\"\")), x[20],\n",
    "                                         x[21], float(x[22].strip(\"\")), x[23],x[24], x[25], x[26], x[27], x[28], x[29], x[30]))\n",
    "\n",
    "    return rdd"
   ]
  },
  {
   "cell_type": "markdown",
   "metadata": {},
   "source": [
    "#### 1.1.2.1 Flights RDD <a class=\"anchor\" id=\"1.1.2.1\"></a>\n",
    "[Back to top](#table)"
   ]
  },
  {
   "cell_type": "code",
   "execution_count": 4,
   "metadata": {},
   "outputs": [
    {
     "data": {
      "text/plain": [
       "[['2015',\n",
       "  '2',\n",
       "  '6',\n",
       "  '5',\n",
       "  'OO',\n",
       "  '6271',\n",
       "  'N937SW',\n",
       "  'FAR',\n",
       "  'DEN',\n",
       "  '1712',\n",
       "  '1701',\n",
       "  '-11',\n",
       "  '15',\n",
       "  '1716',\n",
       "  '123',\n",
       "  '117',\n",
       "  '95',\n",
       "  '627',\n",
       "  '1751',\n",
       "  '7',\n",
       "  '1815',\n",
       "  '1758',\n",
       "  '-17',\n",
       "  '0',\n",
       "  '0',\n",
       "  '',\n",
       "  '',\n",
       "  '',\n",
       "  '',\n",
       "  '',\n",
       "  '']]"
      ]
     },
     "execution_count": 4,
     "metadata": {},
     "output_type": "execute_result"
    }
   ],
   "source": [
    "# Loading 20 .csv files into a single rdd object \n",
    "flights_rdd = makeRDD(\"Datasets/flight*.csv\")\n",
    "\n",
    "# flights_rdd = typeCastColumns(flights_rdd)\n",
    "\n",
    "# This shows the first row of flights rdd\n",
    "flights_rdd.take(1)"
   ]
  },
  {
   "cell_type": "markdown",
   "metadata": {},
   "source": [
    "#### 1.1.2.2 Airports RDD <a class=\"anchor\" id=\"1.1.2.2\"></a>\n",
    "[Back to top](#table)"
   ]
  },
  {
   "cell_type": "code",
   "execution_count": 5,
   "metadata": {},
   "outputs": [
    {
     "data": {
      "text/plain": [
       "[['ABE',\n",
       "  'Lehigh Valley International Airport',\n",
       "  'Allentown',\n",
       "  'PA',\n",
       "  'USA',\n",
       "  '40.65236',\n",
       "  '-75.44040'],\n",
       " ['ABI',\n",
       "  'Abilene Regional Airport',\n",
       "  'Abilene',\n",
       "  'TX',\n",
       "  'USA',\n",
       "  '32.41132',\n",
       "  '-99.68190']]"
      ]
     },
     "execution_count": 5,
     "metadata": {},
     "output_type": "execute_result"
    }
   ],
   "source": [
    "# Loading the airsports .csv file into a rdd object\n",
    "airports_rdd = makeRDD(\"Datasets/airports.csv\")\n",
    "\n",
    "# This shows the first 2 row of airports rdd\n",
    "airports_rdd.take(2)"
   ]
  },
  {
   "cell_type": "markdown",
   "metadata": {},
   "source": [
    "### 1.1.3 Show RDD number of columns, and number of records <a class=\"anchor\" id=\"1.1.3\"></a>\n",
    "[Back to top](#table)"
   ]
  },
  {
   "cell_type": "code",
   "execution_count": 6,
   "metadata": {},
   "outputs": [],
   "source": [
    "def printDescription(rdd):\n",
    "    print(f\"Number of Records: {rdd.count()}\")\n",
    "    print(f\"Number of Columns: {len(rdd.take(1)[0])}\")\n",
    "    print(f\"Total partitions: {rdd.getNumPartitions()}\")\n"
   ]
  },
  {
   "cell_type": "code",
   "execution_count": 7,
   "metadata": {},
   "outputs": [
    {
     "name": "stdout",
     "output_type": "stream",
     "text": [
      "Description for flights_rdd:\n",
      "Number of Records: 582184\n",
      "Number of Columns: 31\n",
      "Total partitions: 20\n",
      "\n",
      "Description for airports_rdd:\n",
      "Number of Records: 322\n",
      "Number of Columns: 7\n",
      "Total partitions: 2\n"
     ]
    }
   ],
   "source": [
    "print(\"Description for flights_rdd:\")\n",
    "printDescription(flights_rdd)\n",
    "\n",
    "print(\"\\nDescription for airports_rdd:\")\n",
    "printDescription(airports_rdd)"
   ]
  },
  {
   "cell_type": "markdown",
   "metadata": {},
   "source": [
    "### Observation:\n",
    "\n",
    "In RDD, the data is partitioned by default using \"Random Equal Partitioning\", it is used when no partitioning technique is specified."
   ]
  },
  {
   "cell_type": "markdown",
   "metadata": {},
   "source": [
    "## 1.2 Dataset Partitioning <a class=\"anchor\" id=\"1.2\"></a>\n",
    "### 1.2.1 Obtain the maximum arrival time <a class=\"anchor\" id=\"1.2.1\"></a>\n",
    "[Back to top](#table)"
   ]
  },
  {
   "cell_type": "code",
   "execution_count": 8,
   "metadata": {},
   "outputs": [
    {
     "name": "stdout",
     "output_type": "stream",
     "text": [
      "Maximum arrival delay using flights_rdd is 1665\n",
      "CPU times: user 5.33 ms, sys: 3.31 ms, total: 8.64 ms\n",
      "Wall time: 588 ms\n"
     ]
    }
   ],
   "source": [
    "%%time\n",
    "# Removing null or empty values from the arrival delay column\n",
    "max_arrival_delay = flights_rdd.filter(lambda x : x[22] not in  [\"\",''])\n",
    "\n",
    "# Fetching the maximum arrival delay \n",
    "max_arrival_delay = max_arrival_delay.max(key=lambda x: float((x[22].strip(''))))\n",
    "\n",
    "print(\"Maximum arrival delay using flights_rdd is\", max_arrival_delay[22])"
   ]
  },
  {
   "cell_type": "markdown",
   "metadata": {},
   "source": [
    "### 1.2.2 Obtain the minimum arrival time <a class=\"anchor\" id=\"1.2.2\"></a>\n",
    "[Back to top](#table)"
   ]
  },
  {
   "cell_type": "code",
   "execution_count": 9,
   "metadata": {},
   "outputs": [
    {
     "name": "stdout",
     "output_type": "stream",
     "text": [
      "Minimum arrival delay using flights_rdd is -82\n",
      "CPU times: user 5.08 ms, sys: 2.92 ms, total: 8 ms\n",
      "Wall time: 565 ms\n"
     ]
    }
   ],
   "source": [
    "%%time\n",
    "# Removing null or empty values from the arrival delay column\n",
    "min_arrival_delay = flights_rdd.filter(lambda x : x[22] not in  [\"\",''])\n",
    "\n",
    "# Fetching the Minimum arrival delay \n",
    "min_arrival_delay = min_arrival_delay.min(key=lambda x: float((x[22].strip(''))))\n",
    "\n",
    "print(\"Minimum arrival delay using flights_rdd is\", min_arrival_delay[22])"
   ]
  },
  {
   "cell_type": "markdown",
   "metadata": {},
   "source": [
    "### 1.2.3 Define hash partitioning function <a class=\"anchor\" id=\"1.2.3\"></a>\n",
    "[Back to top](#table)"
   ]
  },
  {
   "cell_type": "code",
   "execution_count": 10,
   "metadata": {},
   "outputs": [],
   "source": [
    "# Defining the hash function which takes the year as partitioning id and sum all the digits  \n",
    "number_of_partitions = 4\n",
    "def hash_function(year):\n",
    "    print(\"year\")\n",
    "    total = 0\n",
    "    for digit in str(year):\n",
    "        total += int(digit)\n",
    "    return (total%number_of_partitions)\n",
    "\n",
    "\n",
    "hash_rdd = flights_rdd.partitionBy(number_of_partitions, hash_function)"
   ]
  },
  {
   "cell_type": "code",
   "execution_count": 11,
   "metadata": {},
   "outputs": [],
   "source": [
    "def check_partition_records(rdd):\n",
    "    partitions = rdd.glom().collect()\n",
    "    for index,partition in enumerate(partitions):\n",
    "        print(f'------ Partition {index}:')\n",
    "        if len(partition) > 0:\n",
    "            print(f\"Partition {index}: {len(partition)} records\")\n",
    "            \n",
    "    return partitions"
   ]
  },
  {
   "cell_type": "code",
   "execution_count": 12,
   "metadata": {},
   "outputs": [
    {
     "name": "stdout",
     "output_type": "stream",
     "text": [
      "Partitions for Flights_rdd: \n",
      "\n",
      "------ Partition 0:\n",
      "Partition 0: 28940 records\n",
      "------ Partition 1:\n",
      "Partition 1: 27545 records\n",
      "------ Partition 2:\n",
      "Partition 2: 29843 records\n",
      "------ Partition 3:\n",
      "Partition 3: 27039 records\n",
      "------ Partition 4:\n",
      "Partition 4: 30863 records\n",
      "------ Partition 5:\n",
      "Partition 5: 31056 records\n",
      "------ Partition 6:\n",
      "Partition 6: 30535 records\n",
      "------ Partition 7:\n",
      "Partition 7: 29844 records\n",
      "------ Partition 8:\n",
      "Partition 8: 27234 records\n",
      "------ Partition 9:\n",
      "Partition 9: 30542 records\n",
      "------ Partition 10:\n",
      "Partition 10: 30102 records\n",
      "------ Partition 11:\n",
      "Partition 11: 28532 records\n",
      "------ Partition 12:\n",
      "Partition 12: 28471 records\n",
      "------ Partition 13:\n",
      "Partition 13: 28081 records\n",
      "------ Partition 14:\n",
      "Partition 14: 31221 records\n",
      "------ Partition 15:\n",
      "Partition 15: 28472 records\n",
      "------ Partition 16:\n",
      "Partition 16: 30803 records\n",
      "------ Partition 17:\n",
      "Partition 17: 28615 records\n",
      "------ Partition 18:\n",
      "Partition 18: 29452 records\n",
      "------ Partition 19:\n",
      "Partition 19: 24994 records\n",
      "CPU times: user 2.67 s, sys: 321 ms, total: 2.99 s\n",
      "Wall time: 5.07 s\n"
     ]
    }
   ],
   "source": [
    "%%time\n",
    "# For Flights_rdd\n",
    "print(\"Partitions for Flights_rdd: \\n\")\n",
    "flights_partitions = check_partition_records(flights_rdd)"
   ]
  },
  {
   "cell_type": "code",
   "execution_count": 13,
   "metadata": {},
   "outputs": [
    {
     "name": "stdout",
     "output_type": "stream",
     "text": [
      "Partitions for Airports_rdd: \n",
      "\n",
      "------ Partition 0:\n",
      "Partition 0: 162 records\n",
      "------ Partition 1:\n",
      "Partition 1: 160 records\n",
      "CPU times: user 7.16 ms, sys: 3.74 ms, total: 10.9 ms\n",
      "Wall time: 44.2 ms\n"
     ]
    }
   ],
   "source": [
    "%%time\n",
    "# For Airports_rdd\n",
    "print(\"Partitions for Airports_rdd: \\n\")\n",
    "airports_partitions = check_partition_records(airports_rdd)"
   ]
  },
  {
   "cell_type": "markdown",
   "metadata": {},
   "source": [
    "## Observation:\n",
    "\n",
    "The data present in each hash partitioning contains uneven number of distribution of rocords suggesting that it is skewed. For instance in flights_rdd, some partitions like Partition 17 contains 24994 records whereas Partition 0 contains 31221 records. To overcome this skewness we can alter the partitioning with the use of range partitioning or round robin equal partitioning.\n",
    "\n",
    "For airports_rdd, the records seems almost equally divided with 162 to 160 records in Partition 0 and 1 respectively."
   ]
  },
  {
   "cell_type": "markdown",
   "metadata": {},
   "source": [
    "### 1.2.4 Display the records in each partition <a class=\"anchor\" id=\"1.2.4\"></a>\n",
    "[Back to top](#table)"
   ]
  },
  {
   "cell_type": "code",
   "execution_count": 14,
   "metadata": {},
   "outputs": [],
   "source": [
    "def displayPartitionRecords(rdd, partitions):\n",
    "    for index,partition in enumerate(partitions):\n",
    "        print(f'------ Partition {index}:')\n",
    "        for record in partition:\n",
    "            print(record)"
   ]
  },
  {
   "cell_type": "code",
   "execution_count": 15,
   "metadata": {},
   "outputs": [],
   "source": [
    "# %%time\n",
    "# For Flights_rdd\n",
    "# print(\"Partitions for Flights_rdd: \\n\")\n",
    "# displayPartitionRecords(flights_rdd, flights_partitions)"
   ]
  },
  {
   "cell_type": "code",
   "execution_count": 16,
   "metadata": {},
   "outputs": [
    {
     "name": "stdout",
     "output_type": "stream",
     "text": [
      "Partitions for airports_rdd: \n",
      "\n",
      "------ Partition 0:\n",
      "['ABE', 'Lehigh Valley International Airport', 'Allentown', 'PA', 'USA', '40.65236', '-75.44040']\n",
      "['ABI', 'Abilene Regional Airport', 'Abilene', 'TX', 'USA', '32.41132', '-99.68190']\n",
      "['ABQ', 'Albuquerque International Sunport', 'Albuquerque', 'NM', 'USA', '35.04022', '-106.60919']\n",
      "['ABR', 'Aberdeen Regional Airport', 'Aberdeen', 'SD', 'USA', '45.44906', '-98.42183']\n",
      "['ABY', 'Southwest Georgia Regional Airport', 'Albany', 'GA', 'USA', '31.53552', '-84.19447']\n",
      "['ACK', 'Nantucket Memorial Airport', 'Nantucket', 'MA', 'USA', '41.25305', '-70.06018']\n",
      "['ACT', 'Waco Regional Airport', 'Waco', 'TX', 'USA', '31.61129', '-97.23052']\n",
      "['ACV', 'Arcata Airport', 'Arcata/Eureka', 'CA', 'USA', '40.97812', '-124.10862']\n",
      "['ACY', 'Atlantic City International Airport', 'Atlantic City', 'NJ', 'USA', '39.45758', '-74.57717']\n",
      "['ADK', 'Adak Airport', 'Adak', 'AK', 'USA', '51.87796', '-176.64603']\n",
      "['ADQ', 'Kodiak Airport', 'Kodiak', 'AK', 'USA', '57.74997', '-152.49386']\n",
      "['AEX', 'Alexandria International Airport', 'Alexandria', 'LA', 'USA', '31.32737', '-92.54856']\n",
      "['AGS', 'Augusta Regional Airport\\xa0(Bush Field)', 'Augusta', 'GA', 'USA', '33.36996', '-81.96450']\n",
      "['AKN', 'King Salmon Airport', 'King Salmon', 'AK', 'USA', '58.67680', '-156.64922']\n",
      "['ALB', 'Albany International Airport', 'Albany', 'NY', 'USA', '42.74812', '-73.80298']\n",
      "['ALO', 'Waterloo Regional Airport', 'Waterloo', 'IA', 'USA', '42.55708', '-92.40034']\n",
      "['AMA', 'Rick Husband Amarillo International Airport', 'Amarillo', 'TX', 'USA', '35.21937', '-101.70593']\n",
      "['ANC', 'Ted Stevens Anchorage International Airport', 'Anchorage', 'AK', 'USA', '61.17432', '-149.99619']\n",
      "['APN', 'Alpena County Regional Airport', 'Alpena', 'MI', 'USA', '45.07807', '-83.56029']\n",
      "['ASE', 'Aspen-Pitkin County Airport', 'Aspen', 'CO', 'USA', '39.22316', '-106.86885']\n",
      "['ATL', 'Hartsfield-Jackson Atlanta International Airport', 'Atlanta', 'GA', 'USA', '33.64044', '-84.42694']\n",
      "['ATW', 'Appleton International Airport', 'Appleton', 'WI', 'USA', '44.25741', '-88.51948']\n",
      "['AUS', 'Austin-Bergstrom International Airport', 'Austin', 'TX', 'USA', '30.19453', '-97.66987']\n",
      "['AVL', 'Asheville Regional Airport', 'Asheville', 'NC', 'USA', '35.43619', '-82.54181']\n",
      "['AVP', 'Wilkes-Barre/Scranton International Airport', 'Wilkes-Barre/Scranton', 'PA', 'USA', '41.33815', '-75.72427']\n",
      "['AZO', 'Kalamazoo/Battle Creek International Airport', 'Kalamazoo', 'MI', 'USA', '42.23488', '-85.55206']\n",
      "['BDL', 'Bradley International Airport', 'Windsor Locks', 'CT', 'USA', '41.93887', '-72.68323']\n",
      "['BET', 'Bethel Airport', 'Bethel', 'AK', 'USA', '60.77978', '-161.83800']\n",
      "['BFL', 'Meadows Field', 'Bakersfield', 'CA', 'USA', '35.43360', '-119.05677']\n",
      "['BGM', 'Greater Binghamton Airport', 'Binghamton', 'NY', 'USA', '42.20848', '-75.97961']\n",
      "['BGR', 'Bangor International Airport', 'Bangor', 'ME', 'USA', '44.80744', '-68.82814']\n",
      "['BHM', 'Birmingham-Shuttlesworth International Airport', 'Birmingham', 'AL', 'USA', '33.56294', '-86.75355']\n",
      "['BIL', 'Billings Logan International Airport', 'Billings', 'MT', 'USA', '45.80766', '-108.54286']\n",
      "['BIS', 'Bismarck Municipal Airport', 'Bismarck', 'ND', 'USA', '46.77411', '-100.74672']\n",
      "['BJI', 'Bemidji Regional Airport', 'Bemidji', 'MN', 'USA', '47.50942', '-94.93372']\n",
      "['BLI', 'Bellingham International Airport', 'Bellingham', 'WA', 'USA', '48.79275', '-122.53753']\n",
      "['BMI', 'Central Illinois Regional Airport at Bloomington-Normal', 'Bloomington', 'IL', 'USA', '40.47799', '-88.91595']\n",
      "['BNA', 'Nashville International Airport', 'Nashville', 'TN', 'USA', '36.12448', '-86.67818']\n",
      "['BOI', 'Boise Airport\\xa0(Boise Air Terminal)', 'Boise', 'ID', 'USA', '43.56444', '-116.22278']\n",
      "['BOS', 'Gen. Edward Lawrence Logan International Airport', 'Boston', 'MA', 'USA', '42.36435', '-71.00518']\n",
      "['BPT', 'Jack Brooks Regional Airport\\xa0(Southeast Texas Regional)', 'Beaumont/Port Arthur', 'TX', 'USA', '29.95083', '-94.02069']\n",
      "['BQK', 'Brunswick Golden Isles Airport', 'Brunswick', 'GA', 'USA', '31.25903', '-81.46631']\n",
      "['BQN', 'Rafael Hernández Airport', 'Aguadilla', 'PR', 'USA', '18.49486', '-67.12944']\n",
      "['BRD', 'Brainerd Lakes Regional Airport', 'Brainerd', 'MN', 'USA', '46.39786', '-94.13723']\n",
      "['BRO', 'Brownsville/South Padre Island International Airport', 'Brownsville', 'TX', 'USA', '25.90683', '-97.42586']\n",
      "['BRW', 'Wiley Post-Will Rogers Memorial Airport', 'Barrow', 'AK', 'USA', '71.28545', '-156.76600']\n",
      "['BTM', 'Bert Mooney Airport', 'Butte', 'MT', 'USA', '45.95480', '-112.49746']\n",
      "['BTR', 'Baton Rouge Metropolitan Airport', 'Baton Rouge', 'LA', 'USA', '30.53316', '-91.14963']\n",
      "['BTV', 'Burlington International Airport', 'Burlington', 'VT', 'USA', '44.47300', '-73.15031']\n",
      "['BUF', 'Buffalo Niagara International Airport', 'Buffalo', 'NY', 'USA', '42.94052', '-78.73217']\n",
      "['BUR', 'Bob Hope Airport\\xa0(Hollywood Burbank Airport)', 'Burbank', 'CA', 'USA', '34.20062', '-118.35850']\n",
      "['BWI', 'Baltimore-Washington International Airport', 'Baltimore', 'MD', 'USA', '39.17540', '-76.66820']\n",
      "['BZN', 'Bozeman Yellowstone International Airport\\xa0(Gallatin Field Airport)', 'Bozeman', 'MT', 'USA', '45.77690', '-111.15301']\n",
      "['CAE', 'Columbia Metropolitan Airport', 'Columbia', 'SC', 'USA', '33.93884', '-81.11954']\n",
      "['CAK', 'Akron-Canton Regional Airport', 'Akron', 'OH', 'USA', '40.91631', '-81.44247']\n",
      "['CDC', 'Cedar City Regional Airport', 'Cedar City', 'UT', 'USA', '37.70097', '-113.09858']\n",
      "['CDV', 'Merle K. (Mudhole) Smith Airport', 'Cordova', 'AK', 'USA', '60.49183', '-145.47765']\n",
      "['CEC', 'Del Norte County Airport\\xa0(Jack McNamara Field)', 'Crescent City', 'CA', 'USA', '41.78016', '-124.23653']\n",
      "['CHA', 'Chattanooga Metropolitan Airport\\xa0(Lovell Field)', 'Chattanooga', 'TN', 'USA', '35.03527', '-85.20379']\n",
      "['CHO', 'Charlottesville-Albemarle Airport', 'Charlottesville', 'VA', 'USA', '38.13864', '-78.45286']\n",
      "['CHS', 'Charleston International Airport/Charleston AFB', 'Charleston', 'SC', 'USA', '32.89865', '-80.04051']\n",
      "['CID', 'The Eastern Iowa Airport', 'Cedar Rapids', 'IA', 'USA', '41.88459', '-91.71087']\n",
      "['CIU', 'Chippewa County International Airport', 'Sault Ste. Marie', 'MI', 'USA', '46.25075', '-84.47239']\n",
      "['CLD', 'McClellan-Palomar Airport', 'San Diego', 'CA', 'USA', '33.12723', '-117.27873']\n",
      "['CLE', 'Cleveland Hopkins International Airport', 'Cleveland', 'OH', 'USA', '41.41089', '-81.84940']\n",
      "['CLL', 'Easterwood Airport', 'College Station', 'TX', 'USA', '30.58859', '-96.36382']\n",
      "['CLT', 'Charlotte Douglas International Airport', 'Charlotte', 'NC', 'USA', '35.21401', '-80.94313']\n",
      "['CMH', 'Port Columbus International Airport', 'Columbus', 'OH', 'USA', '39.99799', '-82.89188']\n",
      "['CMI', 'University of Illinois - Willard Airport', 'Champaign/Urbana', 'IL', 'USA', '40.03925', '-88.27806']\n",
      "['CMX', 'Houghton County Memorial Airport', 'Hancock', 'MI', 'USA', '47.16842', '-88.48906']\n",
      "['CNY', 'Canyonlands Field', 'Moab', 'UT', 'USA', '38.75496', '-109.75484']\n",
      "['COD', 'Yellowstone Regional Airport', 'Cody', 'WY', 'USA', '44.52019', '-109.02380']\n",
      "['COS', 'City of Colorado Springs Municipal Airport', 'Colorado Springs', 'CO', 'USA', '38.80581', '-104.70025']\n",
      "['COU', 'Columbia Regional Airport', 'Columbia', 'MO', 'USA', '38.81809', '-92.21963']\n",
      "['CPR', 'Natrona County International Airport', 'Casper', 'WY', 'USA', '42.90836', '-106.46447']\n",
      "['CRP', 'Corpus Christi International Airport', 'Corpus Christi', 'TX', 'USA', '27.77036', '-97.50122']\n",
      "['CRW', 'Yeager Airport', 'Charleston', 'WV', 'USA', '38.37315', '-81.59319']\n",
      "['CSG', 'Columbus Metropolitan Airport', 'Columbus', 'GA', 'USA', '32.51633', '-84.93886']\n",
      "['CVG', 'Cincinnati/Northern Kentucky International Airport', 'Covington', 'KY', 'USA', '39.04614', '-84.66217']\n",
      "['CWA', 'Central Wisconsin Airport', 'Mosinee', 'WI', 'USA', '44.77762', '-89.66678']\n",
      "['DAB', 'Daytona Beach International Airport', 'Daytona Beach', 'FL', 'USA', '29.17992', '-81.05806']\n",
      "['DAL', 'Dallas Love Field', 'Dallas', 'TX', 'USA', '32.84711', '-96.85177']\n",
      "['DAY', 'James M. Cox Dayton International Airport', 'Dayton', 'OH', 'USA', '39.90238', '-84.21938']\n",
      "['DBQ', 'Dubuque Regional Airport', 'Dubuque', 'IA', 'USA', '42.40296', '-90.70917']\n",
      "['DCA', 'Ronald Reagan Washington National Airport', 'Arlington', 'VA', 'USA', '38.85208', '-77.03772']\n",
      "['DEN', 'Denver International Airport', 'Denver', 'CO', 'USA', '39.85841', '-104.66700']\n",
      "['DFW', 'Dallas/Fort Worth International Airport', 'Dallas-Fort Worth', 'TX', 'USA', '32.89595', '-97.03720']\n",
      "['DHN', 'Dothan Regional Airport', 'Dothan', 'AL', 'USA', '31.32134', '-85.44963']\n",
      "['DIK', 'Dickinson Theodore Roosevelt Regional Airport', 'Dickinson', 'ND', 'USA', '46.79739', '-102.80195']\n",
      "['DLG', 'Dillingham Airport', 'Dillingham', 'AK', 'USA', '59.04541', '-158.50334']\n",
      "['DLH', 'Duluth International Airport', 'Duluth', 'MN', 'USA', '46.84209', '-92.19365']\n",
      "['DRO', 'Durango-La Plata County Airport', 'Durango', 'CO', 'USA', '37.15152', '-107.75377']\n",
      "['DSM', 'Des Moines International Airport', 'Des Moines', 'IA', 'USA', '41.53493', '-93.66068']\n",
      "['DTW', 'Detroit Metropolitan Airport', 'Detroit', 'MI', 'USA', '42.21206', '-83.34884']\n",
      "['DVL', 'Devils Lake Regional Airport', 'Devils Lake', 'ND', 'USA', '48.11425', '-98.90878']\n",
      "['EAU', 'Chippewa Valley Regional Airport', 'Eau Claire', 'WI', 'USA', '44.86526', '-91.48507']\n",
      "['ECP', 'Northwest Florida Beaches International Airport', 'Panama City', 'FL', 'USA', '', '']\n",
      "['EGE', 'Eagle County Regional Airport', 'Eagle', 'CO', 'USA', '39.64257', '-106.91770']\n",
      "['EKO', 'Elko Regional Airport', 'Elko', 'NV', 'USA', '40.82493', '-115.79170']\n",
      "['ELM', 'Elmira/Corning Regional Airport', 'Elmira', 'NY', 'USA', '42.15991', '-76.89144']\n",
      "['ELP', 'El Paso International Airport', 'El Paso', 'TX', 'USA', '31.80667', '-106.37781']\n",
      "['ERI', 'Erie International Airport', 'Erie', 'PA', 'USA', '42.08202', '-80.17622']\n",
      "['ESC', 'Delta County Airport', 'Escanaba', 'MI', 'USA', '45.72267', '-87.09373']\n",
      "['EUG', 'Eugene Airport\\xa0(Mahlon Sweet Field)', 'Eugene', 'OR', 'USA', '44.12326', '-123.21869']\n",
      "['EVV', 'Evansville Regional Airport', 'Evansville', 'IN', 'USA', '38.03799', '-87.53063']\n",
      "['EWN', 'Coastal Carolina Regional Airport\\xa0(Craven County Regional)', 'New Bern', 'NC', 'USA', '35.07297', '-77.04294']\n",
      "['EWR', 'Newark Liberty International Airport', 'Newark', 'NJ', 'USA', '40.69250', '-74.16866']\n",
      "['EYW', 'Key West International Airport', 'Key West', 'FL', 'USA', '24.55611', '-81.75956']\n",
      "['FAI', 'Fairbanks International Airport', 'Fairbanks', 'AK', 'USA', '64.81368', '-147.85967']\n",
      "['FAR', 'Hector International Airport', 'Fargo', 'ND', 'USA', '46.91935', '-96.81499']\n",
      "['FAT', 'Fresno Yosemite International Airport', 'Fresno', 'CA', 'USA', '36.77619', '-119.71814']\n",
      "['FAY', 'Fayetteville Regional Airport', 'Fayetteville', 'NC', 'USA', '34.99147', '-78.88000']\n",
      "['FCA', 'Glacier Park International Airport', 'Kalispell', 'MT', 'USA', '48.31140', '-114.25507']\n",
      "['FLG', 'Flagstaff Pulliam Airport', 'Flagstaff', 'AZ', 'USA', '35.13845', '-111.67122']\n",
      "['FLL', 'Fort Lauderdale-Hollywood International Airport', 'Ft. Lauderdale', 'FL', 'USA', '26.07258', '-80.15275']\n",
      "['FNT', 'Bishop International Airport', 'Flint', 'MI', 'USA', '42.96550', '-83.74346']\n",
      "['FSD', 'Sioux Falls Regional Airport', 'Sioux Falls', 'SD', 'USA', '43.58135', '-96.74170']\n",
      "['FSM', 'Fort Smith Regional Airport', 'Fort Smith', 'AR', 'USA', '35.33659', '-94.36744']\n",
      "['FWA', 'Fort Wayne International Airport', 'Fort Wayne', 'IN', 'USA', '40.97847', '-85.19515']\n",
      "['GCC', 'Gillette-Campbell County Airport', 'Gillette', 'WY', 'USA', '44.34890', '-105.53936']\n",
      "['GCK', 'Garden City Regional Airport', 'Garden City', 'KS', 'USA', '37.92752', '-100.72441']\n",
      "['GEG', 'Spokane International Airport', 'Spokane', 'WA', 'USA', '47.61986', '-117.53384']\n",
      "['GFK', 'Grand Forks International Airport', 'Grand Forks', 'ND', 'USA', '47.94926', '-97.17611']\n",
      "['GGG', 'East Texas Regional Airport', 'Longview', 'TX', 'USA', '32.38486', '-94.71171']\n",
      "['GJT', 'Grand Junction Regional Airport\\xa0(Walker Field)', 'Grand Junction', 'CO', 'USA', '39.12241', '-108.52673']\n",
      "['GNV', 'Gainesville Regional Airport', 'Gainesville', 'FL', 'USA', '29.69006', '-82.27178']\n",
      "['GPT', 'Gulfport-Biloxi International Airport', 'Gulfport-Biloxi', 'MS', 'USA', '30.40728', '-89.07009']\n",
      "['GRB', 'Green Bay-Austin Straubel International Airport', 'Green Bay', 'WI', 'USA', '44.48507', '-88.12959']\n",
      "['GRI', 'Central Nebraska Regional Airport', 'Grand Island', 'NE', 'USA', '40.96747', '-98.30861']\n",
      "['GRK', 'Killeen-Fort Hood Regional Airport', 'Killeen', 'TX', 'USA', '31.06490', '-97.82780']\n",
      "['GRR', 'Gerald R. Ford International Airport', 'Grand Rapids', 'MI', 'USA', '42.88082', '-85.52277']\n",
      "['GSO', 'Piedmont Triad International Airport', 'Greensboro', 'NC', 'USA', '36.09775', '-79.93730']\n",
      "['GSP', 'Greenville-Spartanburg International Airport', 'Greer', 'SC', 'USA', '34.89567', '-82.21886']\n",
      "['GST', 'Gustavus Airport', 'Gustavus', 'AK', 'USA', '58.42438', '-135.70738']\n",
      "['GTF', 'Great Falls International Airport', 'Great Falls', 'MT', 'USA', '47.48200', '-111.37069']\n",
      "['GTR', 'Golden Triangle Regional Airport', 'Columbus-Starkville-West Point', 'MS', 'USA', '33.45033', '-88.59137']\n",
      "['GUC', 'Gunnison-Crested Butte Regional Airport', 'Gunnison', 'CO', 'USA', '38.53396', '-106.93318']\n",
      "['GUM', 'Guam International Airport', 'Agana', 'GU', 'USA', '13.48345', '-144.79598']\n",
      "['HDN', 'Yampa Valley Airport\\xa0(Yampa Valley Regional)', 'Hayden', 'CO', 'USA', '40.48118', '-107.21766']\n",
      "['HIB', 'Range Regional Airport\\xa0(Chisholm-Hibbing Airport)', 'Hibbing', 'MN', 'USA', '47.38660', '-92.83899']\n",
      "['HLN', 'Helena Regional Airport', 'Helena', 'MT', 'USA', '46.60682', '-111.98275']\n",
      "['HNL', 'Honolulu International Airport', 'Honolulu', 'HI', 'USA', '21.31869', '-157.92241']\n",
      "['HOB', 'Lea County Regional Airport', 'Hobbs', 'NM', 'USA', '32.68753', '-103.21703']\n",
      "['HOU', 'William P. Hobby Airport', 'Houston', 'TX', 'USA', '29.64542', '-95.27889']\n",
      "['HPN', 'Westchester County Airport', 'White Plains', 'NY', 'USA', '41.06696', '-73.70757']\n",
      "['HRL', 'Valley International Airport', 'Harlingen', 'TX', 'USA', '26.22851', '-97.65439']\n",
      "['HSV', 'Huntsville International Airport', 'Huntsville', 'AL', 'USA', '34.64045', '-86.77311']\n",
      "['HYA', 'Barnstable Municipal Airport', 'Hyannis', 'MA', 'USA', '41.66934', '-70.28036']\n",
      "['HYS', 'Hays Regional Airport', 'Hays', 'KS', 'USA', '38.84494', '-99.27403']\n",
      "['IAD', 'Washington Dulles International Airport', 'Chantilly', 'VA', 'USA', '38.94453', '-77.45581']\n",
      "['IAG', 'Niagara Falls International Airport', 'Niagara Falls', 'NY', 'USA', '43.10726', '-78.94538']\n",
      "['IAH', 'George Bush Intercontinental Airport', 'Houston', 'TX', 'USA', '29.98047', '-95.33972']\n",
      "['ICT', 'Wichita Dwight D. Eisenhower National Airport\\xa0(Wichita Mid-Continent Airport)', 'Wichita', 'KS', 'USA', '37.64996', '-97.43305']\n",
      "['IDA', 'Idaho Falls Regional Airport', 'Idaho Falls', 'ID', 'USA', '43.51456', '-112.07017']\n",
      "['ILG', 'Wilmington Airport', 'Wilmington', 'DE', 'USA', '39.67872', '-75.60653']\n",
      "['ILM', 'Wilmington International Airport', 'Wilmington', 'NC', 'USA', '34.27061', '-77.90256']\n",
      "['IMT', 'Ford Airport', 'Iron Mountain/Kingsford', 'MI', 'USA', '45.81835', '-88.11454']\n",
      "['IND', 'Indianapolis International Airport', 'Indianapolis', 'IN', 'USA', '39.71733', '-86.29438']\n",
      "['INL', 'Falls International Airport', 'International Falls', 'MN', 'USA', '48.56619', '-93.40307']\n",
      "['ISN', 'Sloulin Field International Airport', 'Williston', 'ND', 'USA', '48.17794', '-103.64235']\n",
      "['ISP', 'Long Island MacArthur Airport', 'Islip', 'NY', 'USA', '40.79524', '-73.10021']\n",
      "['ITH', 'Ithaca Tompkins Regional Airport', 'Ithaca', 'NY', 'USA', '42.49103', '-76.45844']\n",
      "------ Partition 1:\n",
      "['ITO', 'Hilo International Airport', 'Hilo', 'HI', 'USA', '19.72026', '-155.04847']\n",
      "['JAC', 'Jackson Hole Airport', 'Jackson', 'WY', 'USA', '43.60732', '-110.73774']\n",
      "['JAN', 'Jackson-Evers International Airport', 'Jackson', 'MS', 'USA', '32.31117', '-90.07589']\n",
      "['JAX', 'Jacksonville International Airport', 'Jacksonville', 'FL', 'USA', '30.49406', '-81.68786']\n",
      "['JFK', 'John F. Kennedy International Airport\\xa0(New York International Airport)', 'New York', 'NY', 'USA', '40.63975', '-73.77893']\n",
      "['JLN', 'Joplin Regional Airport', 'Joplin', 'MO', 'USA', '37.15181', '-94.49827']\n",
      "['JMS', 'Jamestown Regional Airport', 'Jamestown', 'ND', 'USA', '46.92972', '-98.67820']\n",
      "['JNU', 'Juneau International Airport', 'Juneau', 'AK', 'USA', '58.35496', '-134.57628']\n",
      "['KOA', 'Kona International Airport at Keahole', 'Kailua/Kona', 'HI', 'USA', '19.73877', '-156.04563']\n",
      "['KTN', 'Ketchikan International Airport', 'Ketchikan', 'AK', 'USA', '55.35557', '-131.71374']\n",
      "['LAN', 'Capital Region International Airport\\xa0( Lansing Capital City)', 'Lansing', 'MI', 'USA', '42.77870', '-84.58736']\n",
      "['LAR', 'Laramie Regional Airport', 'Laramie', 'WY', 'USA', '41.31205', '-105.67499']\n",
      "['LAS', 'McCarran International Airport', 'Las Vegas', 'NV', 'USA', '36.08036', '-115.15233']\n",
      "['LAW', 'Lawton-Fort Sill Regional Airport', 'Lawton', 'OK', 'USA', '34.56771', '-98.41664']\n",
      "['LAX', 'Los Angeles International Airport', 'Los Angeles', 'CA', 'USA', '33.94254', '-118.40807']\n",
      "['LBB', 'Lubbock Preston Smith International Airport', 'Lubbock', 'TX', 'USA', '33.66364', '-101.82278']\n",
      "['LBE', 'Arnold Palmer Regional Airport', 'Latrobe', 'PA', 'USA', '40.27594', '-79.40480']\n",
      "['LCH', 'Lake Charles Regional Airport', 'Lake Charles', 'LA', 'USA', '30.12610', '-93.22340']\n",
      "['LEX', 'Blue Grass Airport', 'Lexington', 'KY', 'USA', '38.03697', '-84.60539']\n",
      "['LFT', 'Lafayette Regional Airport', 'Lafayette', 'LA', 'USA', '30.20528', '-91.98766']\n",
      "['LGA', 'LaGuardia Airport (Marine Air Terminal)', 'New York', 'NY', 'USA', '40.77724', '-73.87261']\n",
      "['LGB', 'Long Beach Airport\\xa0(Daugherty Field)', 'Long Beach', 'CA', 'USA', '33.81772', '-118.15161']\n",
      "['LIH', 'Lihue Airport', 'Lihue', 'HI', 'USA', '21.97598', '-159.33896']\n",
      "['LIT', 'Bill and Hillary Clinton National Airport\\xa0(Adams Field)', 'Little Rock', 'AR', 'USA', '34.72940', '-92.22425']\n",
      "['LNK', 'Lincoln Airport\\xa0(Lincoln Municipal)', 'Lincoln', 'NE', 'USA', '40.85097', '-96.75925']\n",
      "['LRD', 'Laredo International Airport', 'Laredo', 'TX', 'USA', '27.54374', '-99.46154']\n",
      "['LSE', 'La Crosse Regional Airport', 'La Crosse', 'WI', 'USA', '43.87938', '-91.25654']\n",
      "['LWS', 'Lewiston-Nez Perce County Airport', 'Lewiston', 'ID', 'USA', '46.37450', '-117.01539']\n",
      "['MAF', 'Midland International Airport', 'Midland', 'TX', 'USA', '31.94253', '-102.20191']\n",
      "['MBS', 'MBS International Airport', 'Saginaw', 'MI', 'USA', '43.53291', '-84.07965']\n",
      "['MCI', 'Kansas City International Airport', 'Kansas City', 'MO', 'USA', '39.29761', '-94.71391']\n",
      "['MCO', 'Orlando International Airport', 'Orlando', 'FL', 'USA', '28.42889', '-81.31603']\n",
      "['MDT', 'Harrisburg International Airport', 'Harrisburg', 'PA', 'USA', '40.19350', '-76.76340']\n",
      "['MDW', 'Chicago Midway International Airport', 'Chicago', 'IL', 'USA', '41.78598', '-87.75242']\n",
      "['MEI', 'Meridian Regional Airport', 'Meridian', 'MS', 'USA', '32.33313', '-88.75121']\n",
      "['MEM', 'Memphis International Airport', 'Memphis', 'TN', 'USA', '35.04242', '-89.97667']\n",
      "['MFE', 'McAllen-Miller International Airport\\xa0(McAllen Miller International)', 'McAllen', 'TX', 'USA', '26.17583', '-98.23861']\n",
      "['MFR', 'Rogue Valley International Airport', 'Medford', 'OR', 'USA', '42.37423', '-122.87350']\n",
      "['MGM', 'Montgomery Regional Airport', 'Montgomery', 'AL', 'USA', '32.30064', '-86.39398']\n",
      "['MHK', 'Manhattan Regional Airport', 'Manhattan', 'KS', 'USA', '39.14097', '-96.67083']\n",
      "['MHT', 'Manchester-Boston Regional Airport', 'Manchester', 'NH', 'USA', '42.93452', '-71.43706']\n",
      "['MIA', 'Miami International Airport', 'Miami', 'FL', 'USA', '25.79325', '-80.29056']\n",
      "['MKE', 'General Mitchell International Airport', 'Milwaukee', 'WI', 'USA', '42.94722', '-87.89658']\n",
      "['MKG', 'Muskegon County Airport', 'Muskegon', 'MI', 'USA', '43.16949', '-86.23822']\n",
      "['MLB', 'Melbourne International Airport', 'Melbourne', 'FL', 'USA', '28.10275', '-80.64581']\n",
      "['MLI', 'Quad City International Airport', 'Moline', 'IL', 'USA', '41.44853', '-90.50754']\n",
      "['MLU', 'Monroe Regional Airport', 'Monroe', 'LA', 'USA', '32.51087', '-92.03769']\n",
      "['MMH', 'Mammoth Yosemite Airport', 'Mammoth Lakes', 'CA', 'USA', '37.62405', '-118.83777']\n",
      "['MOB', 'Mobile Regional Airport', 'Mobile', 'AL', 'USA', '30.69142', '-88.24283']\n",
      "['MOT', 'Minot International Airport', 'Minot', 'ND', 'USA', '48.25938', '-101.28033']\n",
      "['MQT', 'Sawyer International Airport', 'Marquette', 'MI', 'USA', '46.35364', '-87.39536']\n",
      "['MRY', 'Monterey Regional Airport\\xa0(Monterey Peninsula Airport)', 'Monterey', 'CA', 'USA', '36.58698', '-121.84295']\n",
      "['MSN', 'Dane County Regional Airport', 'Madison', 'WI', 'USA', '43.13986', '-89.33751']\n",
      "['MSO', 'Missoula International Airport', 'Missoula', 'MT', 'USA', '46.91631', '-114.09056']\n",
      "['MSP', 'Minneapolis-Saint Paul International Airport', 'Minneapolis', 'MN', 'USA', '44.88055', '-93.21692']\n",
      "['MSY', 'Louis Armstrong New Orleans International Airport', 'New Orleans', 'LA', 'USA', '29.99339', '-90.25803']\n",
      "['MTJ', 'Montrose Regional Airport', 'Montrose', 'CO', 'USA', '38.50887', '-107.89383']\n",
      "['MVY', \"Martha's Vineyard Airport\", 'Marthas Vineyard', 'MA', 'USA', '41.39303', '-70.61433']\n",
      "['MYR', 'Myrtle Beach International Airport', 'Myrtle Beach', 'SC', 'USA', '33.67975', '-78.92833']\n",
      "['OAJ', 'Albert J. Ellis Airport', 'Jacksonville', 'NC', 'USA', '34.82916', '-77.61214']\n",
      "['OAK', 'Oakland International Airport', 'Oakland', 'CA', 'USA', '37.72129', '-122.22072']\n",
      "['OGG', 'Kahului Airport', 'Kahului', 'HI', 'USA', '20.89865', '-156.43046']\n",
      "['OKC', 'Will Rogers World Airport', 'Oklahoma City', 'OK', 'USA', '35.39309', '-97.60073']\n",
      "['OMA', 'Eppley Airfield', 'Omaha', 'NE', 'USA', '41.30252', '-95.89417']\n",
      "['OME', 'Nome Airport', 'Nome', 'AK', 'USA', '64.51220', '-165.44525']\n",
      "['ONT', 'Ontario International Airport', 'Ontario', 'CA', 'USA', '34.05600', '-117.60119']\n",
      "['ORD', \"Chicago O'Hare International Airport\", 'Chicago', 'IL', 'USA', '41.97960', '-87.90446']\n",
      "['ORF', 'Norfolk International Airport', 'Norfolk', 'VA', 'USA', '36.89461', '-76.20122']\n",
      "['ORH', 'Worcester Regional Airport', 'Worcester', 'MA', 'USA', '42.26734', '-71.87571']\n",
      "['OTH', 'Southwest Oregon Regional Airport\\xa0(North Bend Municipal)', 'North Bend', 'OR', 'USA', '43.41714', '-124.24603']\n",
      "['OTZ', 'Ralph Wien Memorial Airport', 'Kotzebue', 'AK', 'USA', '66.88468', '-162.59855']\n",
      "['PAH', 'Barkley Regional Airport', 'Paducah', 'KY', 'USA', '37.06083', '-88.77375']\n",
      "['PBG', 'Plattsburgh International Airport', 'Plattsburgh', 'NY', 'USA', '', '']\n",
      "['PBI', 'Palm Beach International Airport', 'West Palm Beach', 'FL', 'USA', '26.68316', '-80.09559']\n",
      "['PDX', 'Portland International Airport', 'Portland', 'OR', 'USA', '45.58872', '-122.59750']\n",
      "['PHF', 'Newport News/Williamsburg International Airport', 'Newport News', 'VA', 'USA', '37.13190', '-76.49299']\n",
      "['PHL', 'Philadelphia International Airport', 'Philadelphia', 'PA', 'USA', '39.87195', '-75.24114']\n",
      "['PHX', 'Phoenix Sky Harbor International Airport', 'Phoenix', 'AZ', 'USA', '33.43417', '-112.00806']\n",
      "['PIA', 'General Wayne A. Downing Peoria International Airport', 'Peoria', 'IL', 'USA', '40.66424', '-89.69331']\n",
      "['PIB', 'Hattiesburg-Laurel Regional Airport', 'Hattiesburg-Laurel', 'MS', 'USA', '31.46715', '-89.33706']\n",
      "['PIH', 'Pocatello Regional Airport', 'Pocatello', 'ID', 'USA', '42.91131', '-112.59586']\n",
      "['PIT', 'Pittsburgh International Airport', 'Pittsburgh', 'PA', 'USA', '40.49147', '-80.23287']\n",
      "['PLN', 'Pellston Regional Airport of Emmet County', 'Pellston', 'MI', 'USA', '45.57093', '-84.79672']\n",
      "['PNS', 'Pensacola International Airport\\xa0(Pensacola Gulf Coast Regional Airport)', 'Pensacola', 'FL', 'USA', '30.47331', '-87.18744']\n",
      "['PPG', 'Pago Pago International Airport (Tafuna Airport)', 'Pago Pago', 'AS', 'USA', '14.33102', '-170.71053']\n",
      "['PSC', 'Tri-Cities Airport', 'Pasco', 'WA', 'USA', '46.26468', '-119.11903']\n",
      "['PSE', 'Mercedita Airport', 'Ponce', 'PR', 'USA', '18.00830', '-66.56301']\n",
      "['PSG', 'Petersburg James A. Johnson Airport', 'Petersburg', 'AK', 'USA', '56.80165', '-132.94528']\n",
      "['PSP', 'Palm Springs International Airport', 'Palm Springs', 'CA', 'USA', '33.82922', '-116.50625']\n",
      "['PUB', 'Pueblo Memorial Airport', 'Pueblo', 'CO', 'USA', '38.28909', '-104.49657']\n",
      "['PVD', 'Theodore Francis Green State Airport', 'Providence', 'RI', 'USA', '41.72400', '-71.42822']\n",
      "['PWM', 'Portland International Jetport', 'Portland', 'ME', 'USA', '43.64617', '-70.30875']\n",
      "['RAP', 'Rapid City Regional Airport', 'Rapid City', 'SD', 'USA', '44.04532', '-103.05737']\n",
      "['RDD', 'Redding Municipal Airport', 'Redding', 'CA', 'USA', '40.50898', '-122.29340']\n",
      "['RDM', 'Redmond Municipal Airport\\xa0(Roberts Field)', 'Redmond', 'OR', 'USA', '44.25407', '-121.14996']\n",
      "['RDU', 'Raleigh-Durham International Airport', 'Raleigh', 'NC', 'USA', '35.87764', '-78.78747']\n",
      "['RHI', 'Rhinelander-Oneida County Airport', 'Rhinelander', 'WI', 'USA', '45.63119', '-89.46745']\n",
      "['RIC', 'Richmond International Airport', 'Richmond', 'VA', 'USA', '37.50517', '-77.31967']\n",
      "['RKS', 'Rock Springs-Sweetwater County Airport', 'Rock Springs', 'WY', 'USA', '41.59422', '-109.06519']\n",
      "['RNO', 'Reno/Tahoe International Airport', 'Reno', 'NV', 'USA', '39.49858', '-119.76806']\n",
      "['ROA', 'Roanoke Regional Airport\\xa0(Woodrum Field)', 'Roanoke', 'VA', 'USA', '37.32547', '-79.97543']\n",
      "['ROC', 'Greater Rochester International Airport', 'Rochester', 'NY', 'USA', '43.11887', '-77.67238']\n",
      "['ROW', 'Roswell International Air Center', 'Roswell', 'NM', 'USA', '33.30156', '-104.53056']\n",
      "['RST', 'Rochester International Airport', 'Rochester', 'MN', 'USA', '43.90883', '-92.49799']\n",
      "['RSW', 'Southwest Florida International Airport', 'Ft. Myers', 'FL', 'USA', '26.53617', '-81.75517']\n",
      "['SAF', 'Santa Fe Municipal Airport', 'Santa Fe', 'NM', 'USA', '35.61678', '-106.08814']\n",
      "['SAN', 'San Diego International Airport\\xa0(Lindbergh Field)', 'San Diego', 'CA', 'USA', '32.73356', '-117.18966']\n",
      "['SAT', 'San Antonio International Airport', 'San Antonio', 'TX', 'USA', '29.53369', '-98.46978']\n",
      "['SAV', 'Savannah/Hilton Head International Airport', 'Savannah', 'GA', 'USA', '32.12758', '-81.20214']\n",
      "['SBA', 'Santa Barbara Municipal Airport\\xa0(Santa Barbara Airport)', 'Santa Barbara', 'CA', 'USA', '34.42621', '-119.84037']\n",
      "['SBN', 'South Bend International Airport\\xa0(South Bend Regional)', 'South Bend', 'IN', 'USA', '41.70895', '-86.31847']\n",
      "['SBP', 'San Luis Obispo County Regional Airport\\xa0(McChesney Field)', 'San Luis Obispo', 'CA', 'USA', '35.23706', '-120.64239']\n",
      "['SCC', 'Deadhorse Airport\\xa0(Prudhoe Bay Airport)', 'Deadhorse', 'AK', 'USA', '70.19476', '-148.46516']\n",
      "['SCE', 'University Park Airport', 'State College', 'PA', 'USA', '40.85121', '-77.84630']\n",
      "['SDF', 'Louisville International Airport\\xa0(Standiford Field)', 'Louisville', 'KY', 'USA', '38.17439', '-85.73600']\n",
      "['SEA', 'Seattle-Tacoma International Airport', 'Seattle', 'WA', 'USA', '47.44898', '-122.30931']\n",
      "['SFO', 'San Francisco International Airport', 'San Francisco', 'CA', 'USA', '37.61900', '-122.37484']\n",
      "['SGF', 'Springfield-Branson National Airport', 'Springfield', 'MO', 'USA', '37.24433', '-93.38686']\n",
      "['SGU', 'St. George Regional Airport', 'St George', 'UT', 'USA', '37.09058', '-113.59306']\n",
      "['SHV', 'Shreveport Regional Airport', 'Shreveport', 'LA', 'USA', '32.44663', '-93.82560']\n",
      "['SIT', 'Sitka Rocky Gutierrez Airport', 'Sitka', 'AK', 'USA', '57.04714', '-135.36160']\n",
      "['SJC', 'Norman Y. Mineta San José International Airport', 'San Jose', 'CA', 'USA', '37.36186', '-121.92901']\n",
      "['SJT', 'San Angelo Regional Airport\\xa0(Mathis Field)', 'San Angelo', 'TX', 'USA', '31.35775', '-100.49631']\n",
      "['SJU', 'Luis Muñoz Marín International Airport', 'San Juan', 'PR', 'USA', '18.43942', '-66.00183']\n",
      "['SLC', 'Salt Lake City International Airport', 'Salt Lake City', 'UT', 'USA', '40.78839', '-111.97777']\n",
      "['SMF', 'Sacramento International Airport', 'Sacramento', 'CA', 'USA', '38.69542', '-121.59077']\n",
      "['SMX', 'Santa Maria Public Airport\\xa0(Capt G. Allan Hancock Field)', 'Santa Maria', 'CA', 'USA', '34.89925', '-120.45758']\n",
      "['SNA', 'John Wayne Airport\\xa0(Orange County Airport)', 'Santa Ana', 'CA', 'USA', '33.67566', '-117.86822']\n",
      "['SPI', 'Abraham Lincoln Capital Airport', 'Springfield', 'IL', 'USA', '39.84395', '-89.67762']\n",
      "['SPS', 'Wichita Falls Municipal Airport/Sheppard AFB', 'Wichita Falls', 'TX', 'USA', '33.98880', '-98.49189']\n",
      "['SRQ', 'Sarasota-Bradenton International Airport', 'Sarasota', 'FL', 'USA', '27.39533', '-82.55411']\n",
      "['STC', 'St. Cloud Regional Airport', 'St Cloud', 'MN', 'USA', '45.54532', '-94.05834']\n",
      "['STL', 'St. Louis International Airport at Lambert Field', 'St Louis', 'MO', 'USA', '38.74769', '-90.35999']\n",
      "['STT', 'Cyril E. King Airport', 'Charlotte Amalie', 'VI', 'USA', '18.33731', '-64.97336']\n",
      "['STX', 'Henry E. Rohlsen Airport', 'Christiansted', 'VI', 'USA', '17.70189', '-64.79856']\n",
      "['SUN', 'Friedman Memorial Airport', 'Hailey', 'ID', 'USA', '43.50484', '-114.29659']\n",
      "['SUX', 'Sioux Gateway Airport', 'Sioux City', 'IA', 'USA', '42.40260', '-96.38437']\n",
      "['SWF', 'Stewart International Airport', 'Newburgh', 'NY', 'USA', '41.50409', '-74.10484']\n",
      "['SYR', 'Syracuse Hancock International Airport', 'Syracuse', 'NY', 'USA', '43.11119', '-76.10631']\n",
      "['TLH', 'Tallahassee International Airport', 'Tallahassee', 'FL', 'USA', '30.39653', '-84.35033']\n",
      "['TOL', 'Toledo Express Airport', 'Toledo', 'OH', 'USA', '41.58681', '-83.80783']\n",
      "['TPA', 'Tampa International Airport', 'Tampa', 'FL', 'USA', '27.97547', '-82.53325']\n",
      "['TRI', 'Tri-Cities Regional Airport', 'Bristol', 'TN', 'USA', '36.47521', '-82.40742']\n",
      "['TTN', 'Trenton Mercer Airport', 'Trenton', 'NJ', 'USA', '40.27669', '-74.81347']\n",
      "['TUL', 'Tulsa International Airport', 'Tulsa', 'OK', 'USA', '36.19837', '-95.88824']\n",
      "['TUS', 'Tucson International Airport', 'Tucson', 'AZ', 'USA', '32.11608', '-110.94103']\n",
      "['TVC', 'Cherry Capital Airport', 'Traverse City', 'MI', 'USA', '44.74144', '-85.58224']\n",
      "['TWF', 'Magic Valley Regional Airport\\xa0(Joslin Field)', 'Twin Falls', 'ID', 'USA', '42.48180', '-114.48774']\n",
      "['TXK', 'Texarkana Regional Airport\\xa0(Webb Field)', 'Texarkana', 'AR', 'USA', '33.45371', '-93.99102']\n",
      "['TYR', 'Tyler Pounds Regional Airport', 'Tyler', 'TX', 'USA', '32.35414', '-95.40239']\n",
      "['TYS', 'McGhee Tyson Airport', 'Knoxville', 'TN', 'USA', '35.81249', '-83.99286']\n",
      "['UST', 'Northeast Florida Regional Airport\\xa0(St. Augustine Airport)', 'St. Augustine', 'FL', 'USA', '', '']\n",
      "['VEL', 'Valdez Airport', 'Vernal', 'UT', 'USA', '40.44090', '-109.50992']\n",
      "['VLD', 'Valdosta Regional Airport', 'Valdosta', 'GA', 'USA', '30.78250', '-83.27672']\n",
      "['VPS', 'Destin-Fort Walton Beach Airport/Eglin AFB', 'Valparaiso', 'FL', 'USA', '30.48325', '-86.52540']\n",
      "['WRG', 'Wrangell Airport', 'Wrangell', 'AK', 'USA', '56.48433', '-132.36982']\n",
      "['WYS', 'Westerly State Airport', 'West Yellowstone', 'MT', 'USA', '44.68840', '-111.11764']\n",
      "['XNA', 'Northwest Arkansas Regional Airport', 'Fayetteville/Springdale/Rogers', 'AR', 'USA', '36.28187', '-94.30681']\n",
      "['YAK', 'Yakutat Airport', 'Yakutat', 'AK', 'USA', '59.50336', '-139.66023']\n",
      "['YUM', 'Yuma International Airport', 'Yuma', 'AZ', 'USA', '32.65658', '-114.60597']\n",
      "CPU times: user 7.19 ms, sys: 5.42 ms, total: 12.6 ms\n",
      "Wall time: 8.62 ms\n"
     ]
    }
   ],
   "source": [
    "%%time\n",
    "# For airports_rdd\n",
    "print(\"Partitions for airports_rdd: \\n\")\n",
    "displayPartitionRecords(airports_rdd, airports_partitions)"
   ]
  },
  {
   "cell_type": "markdown",
   "metadata": {},
   "source": [
    "## Observation:\n",
    "\n",
    "The **Hash partitioning in RDD** uses the formula <code>partition = hash_function() % numPartitions</code> in order to determine which record falls into which partition. All the records within the partition has the same hash value. For larger datasets, its difficult to view the records in the partition. Moreover,  there might be unequal distribution of \n",
    "records for the datasets which brings skewness and effective utilization of processors.\n",
    "\n",
    "Therefore, we may use **Range partitioning in RDD** which distributes the records in the partition based on their range of key.  "
   ]
  },
  {
   "cell_type": "markdown",
   "metadata": {},
   "source": [
    "## 1.3 Query RDD  <a class=\"anchor\" id=\"1.3\"></a>\n",
    "### 1.3.1 Collect a total number of flights for each month <a class=\"anchor\" id=\"1.3.1\"></a>\n",
    "[Back to top](#table)"
   ]
  },
  {
   "cell_type": "code",
   "execution_count": 17,
   "metadata": {},
   "outputs": [],
   "source": [
    "# This method is used to return total number of flights per month\n",
    "# month: integer value of month\n",
    "def number_of_flights_per_month(month):\n",
    "    # Filtering the rdd(the MONTH column based on the given month) \n",
    "    rdd = flights_rdd.filter(lambda x: int(x[1]) == month)\n",
    "    \n",
    "    # returning the number of records(i.e. the total number of flights)\n",
    "    return rdd.count()"
   ]
  },
  {
   "cell_type": "code",
   "execution_count": 18,
   "metadata": {},
   "outputs": [
    {
     "name": "stdout",
     "output_type": "stream",
     "text": [
      "The total number of flights in the month of January  are  47136\n",
      "The total number of flights in the month of February  are  42798\n",
      "The total number of flights in the month of March  are  50816\n",
      "The total number of flights in the month of April  are  48810\n",
      "The total number of flights in the month of May  are  49691\n",
      "The total number of flights in the month of June  are  50256\n",
      "The total number of flights in the month of July  are  52065\n",
      "The total number of flights in the month of August  are  50524\n",
      "The total number of flights in the month of September  are  46733\n",
      "The total number of flights in the month of October  are  48680\n",
      "The total number of flights in the month of November  are  46809\n",
      "The total number of flights in the month of December  are  47866\n"
     ]
    }
   ],
   "source": [
    "# Creating a list of months\n",
    "month_list = [\"January\", \"February\", \"March\", \"April\", \"May\", \"June\", \"July\", \"August\", \"September\", \"October\", \"November\", \"December\"]\n",
    "\n",
    "# iterating over the month list to fetch the total number of flights\n",
    "for month in range(0, len(month_list)):\n",
    "    number_of_flights = number_of_flights_per_month(month + 1)\n",
    "    print(\"The total number of flights in the month of\", month_list[month], \" are \", number_of_flights)\n"
   ]
  },
  {
   "cell_type": "markdown",
   "metadata": {},
   "source": [
    "## Observation:\n",
    "\n",
    "It can be analysed there are maximum number of flights in the month of **July** with **52065 flights** and **February** being the minimum with **42798 flights**."
   ]
  },
  {
   "cell_type": "markdown",
   "metadata": {},
   "source": [
    "### 1.3.2 Collect the average delay for each month <a class=\"anchor\" id=\"1.3.2\"></a>\n",
    "[Back to top](#table)"
   ]
  },
  {
   "cell_type": "code",
   "execution_count": 19,
   "metadata": {},
   "outputs": [],
   "source": [
    "# This method is used to return average delay of flights per month\n",
    "# month: integer value of month\n",
    "def average_delay_per_month(month):\n",
    "    # Filtering the rdd(the MONTH column based on the given month) \n",
    "    rdd = flights_rdd.filter(lambda x: int(x[1]) == month)\n",
    "    \n",
    "    # The map function is used to extract and removing the empty values from the column\n",
    "    rdd = rdd.map(lambda x : float(x[23].strip(\"\")))\n",
    "    \n",
    "    # returning the number of records(i.e. the total number of flights)\n",
    "    return rdd.mean()\n"
   ]
  },
  {
   "cell_type": "code",
   "execution_count": 20,
   "metadata": {},
   "outputs": [
    {
     "name": "stdout",
     "output_type": "stream",
     "text": [
      "The average delay of flights in the month of January are 0.0017608621860149376\n",
      "The average delay of flights in the month of February are 0.002313192205243238\n",
      "The average delay of flights in the month of March are 0.0021449937027707834\n",
      "The average delay of flights in the month of April are 0.002704363859864785\n",
      "The average delay of flights in the month of May are 0.0032802720814634487\n",
      "The average delay of flights in the month of June are 0.003541865647882843\n",
      "The average delay of flights in the month of July are 0.002957841160088355\n",
      "The average delay of flights in the month of August are 0.0032063969598606643\n",
      "The average delay of flights in the month of September are 0.001497870883529842\n",
      "The average delay of flights in the month of October are 0.0017050123253903064\n",
      "The average delay of flights in the month of November are 0.0019654339977354805\n",
      "The average delay of flights in the month of December are 0.0033217732837504733\n"
     ]
    }
   ],
   "source": [
    "# iterating over the month list to fetch the total number of flights\n",
    "for month in range(0, len(month_list)):\n",
    "    average_delay = average_delay_per_month(month + 1)\n",
    "    print(\"The average delay of flights in the month of\", month_list[month], \"are\", average_delay)\n"
   ]
  },
  {
   "cell_type": "markdown",
   "metadata": {},
   "source": [
    "## Observation:\n",
    "\n",
    "It can be analysed there are maximum delay in flights are received in the month of **July** with **0.0035418 units** and **October** being the **minimum with 0.001705 units**"
   ]
  },
  {
   "cell_type": "markdown",
   "metadata": {},
   "source": [
    "# 2 Working with DataFrame <a class=\"anchor\" id=\"2\"></a>\n",
    "## 2.1. Data Preparation and Loading <a class=\"anchor\" id=\"2.1\"></a>\n",
    "### 2.1.1 Define dataframes and loading scheme<a class=\"anchor\" id=\"2.1.1\"></a>\n",
    "[Back to top](#table)"
   ]
  },
  {
   "cell_type": "code",
   "execution_count": 21,
   "metadata": {},
   "outputs": [],
   "source": [
    "# loading units data into one data frame\n",
    "flightsDf = spark.read.csv(\"Datasets/flight*.csv\",header=True, inferSchema=True)\n",
    "\n",
    "# loading crash data into one data frame\n",
    "airportsDf = spark.read.csv(\"Datasets/airports.csv\",header=True, inferSchema=True)"
   ]
  },
  {
   "cell_type": "markdown",
   "metadata": {},
   "source": [
    "### 2.1.2 Display the schema of the final two dataframes<a class=\"anchor\" id=\"2.1.2\"></a>\n",
    "[Back to top](#table)"
   ]
  },
  {
   "cell_type": "code",
   "execution_count": 22,
   "metadata": {},
   "outputs": [
    {
     "name": "stdout",
     "output_type": "stream",
     "text": [
      "root\n",
      " |-- YEAR: integer (nullable = true)\n",
      " |-- MONTH: integer (nullable = true)\n",
      " |-- DAY: integer (nullable = true)\n",
      " |-- DAY_OF_WEEK: integer (nullable = true)\n",
      " |-- AIRLINE: string (nullable = true)\n",
      " |-- FLIGHT_NUMBER: integer (nullable = true)\n",
      " |-- TAIL_NUMBER: string (nullable = true)\n",
      " |-- ORIGIN_AIRPORT: string (nullable = true)\n",
      " |-- DESTINATION_AIRPORT: string (nullable = true)\n",
      " |-- SCHEDULED_DEPARTURE: integer (nullable = true)\n",
      " |-- DEPARTURE_TIME: integer (nullable = true)\n",
      " |-- DEPARTURE_DELAY: integer (nullable = true)\n",
      " |-- TAXI_OUT: integer (nullable = true)\n",
      " |-- WHEELS_OFF: integer (nullable = true)\n",
      " |-- SCHEDULED_TIME: integer (nullable = true)\n",
      " |-- ELAPSED_TIME: integer (nullable = true)\n",
      " |-- AIR_TIME: integer (nullable = true)\n",
      " |-- DISTANCE: integer (nullable = true)\n",
      " |-- WHEELS_ON: integer (nullable = true)\n",
      " |-- TAXI_IN: integer (nullable = true)\n",
      " |-- SCHEDULED_ARRIVAL: integer (nullable = true)\n",
      " |-- ARRIVAL_TIME: integer (nullable = true)\n",
      " |-- ARRIVAL_DELAY: integer (nullable = true)\n",
      " |-- DIVERTED: integer (nullable = true)\n",
      " |-- CANCELLED: integer (nullable = true)\n",
      " |-- CANCELLATION_REASON: string (nullable = true)\n",
      " |-- AIR_SYSTEM_DELAY: integer (nullable = true)\n",
      " |-- SECURITY_DELAY: integer (nullable = true)\n",
      " |-- AIRLINE_DELAY: integer (nullable = true)\n",
      " |-- LATE_AIRCRAFT_DELAY: integer (nullable = true)\n",
      " |-- WEATHER_DELAY: integer (nullable = true)\n",
      "\n"
     ]
    }
   ],
   "source": [
    "flightsDf.printSchema()"
   ]
  },
  {
   "cell_type": "code",
   "execution_count": 23,
   "metadata": {},
   "outputs": [
    {
     "name": "stdout",
     "output_type": "stream",
     "text": [
      "== Physical Plan ==\n",
      "FileScan csv [YEAR#16,MONTH#17,DAY#18,DAY_OF_WEEK#19,AIRLINE#20,FLIGHT_NUMBER#21,TAIL_NUMBER#22,ORIGIN_AIRPORT#23,DESTINATION_AIRPORT#24,SCHEDULED_DEPARTURE#25,DEPARTURE_TIME#26,DEPARTURE_DELAY#27,TAXI_OUT#28,WHEELS_OFF#29,SCHEDULED_TIME#30,ELAPSED_TIME#31,AIR_TIME#32,DISTANCE#33,WHEELS_ON#34,TAXI_IN#35,SCHEDULED_ARRIVAL#36,ARRIVAL_TIME#37,ARRIVAL_DELAY#38,DIVERTED#39,... 7 more fields] Batched: false, DataFilters: [], Format: CSV, Location: InMemoryFileIndex[file:/Users/navalaggarwal/Desktop/WEBSITE projects/Flight Delays in USA/Data An..., PartitionFilters: [], PushedFilters: [], ReadSchema: struct<YEAR:int,MONTH:int,DAY:int,DAY_OF_WEEK:int,AIRLINE:string,FLIGHT_NUMBER:int,TAIL_NUMBER:st...\n",
      "\n",
      "\n"
     ]
    }
   ],
   "source": [
    "# .explain() method is used to verify the partitioning and the query plan when an action is performed\n",
    "flightsDf.explain()"
   ]
  },
  {
   "cell_type": "code",
   "execution_count": 24,
   "metadata": {},
   "outputs": [
    {
     "name": "stdout",
     "output_type": "stream",
     "text": [
      "root\n",
      " |-- IATA_CODE: string (nullable = true)\n",
      " |-- AIRPORT: string (nullable = true)\n",
      " |-- CITY: string (nullable = true)\n",
      " |-- STATE: string (nullable = true)\n",
      " |-- COUNTRY: string (nullable = true)\n",
      " |-- LATITUDE: double (nullable = true)\n",
      " |-- LONGITUDE: double (nullable = true)\n",
      "\n"
     ]
    }
   ],
   "source": [
    "airportsDf.printSchema()"
   ]
  },
  {
   "cell_type": "code",
   "execution_count": 25,
   "metadata": {},
   "outputs": [
    {
     "name": "stdout",
     "output_type": "stream",
     "text": [
      "== Physical Plan ==\n",
      "FileScan csv [IATA_CODE#94,AIRPORT#95,CITY#96,STATE#97,COUNTRY#98,LATITUDE#99,LONGITUDE#100] Batched: false, DataFilters: [], Format: CSV, Location: InMemoryFileIndex[file:/Users/navalaggarwal/Desktop/WEBSITE projects/Flight Delays in USA/Data An..., PartitionFilters: [], PushedFilters: [], ReadSchema: struct<IATA_CODE:string,AIRPORT:string,CITY:string,STATE:string,COUNTRY:string,LATITUDE:double,LO...\n",
      "\n",
      "\n"
     ]
    }
   ],
   "source": [
    "# .explain() method is used to verify the partitioning and the query plan when an action is performed\n",
    "airportsDf.explain()"
   ]
  },
  {
   "cell_type": "markdown",
   "metadata": {},
   "source": [
    "## 2.2. Query Analysis <a class=\"anchor\" id=\"2.2\"></a>\n",
    "### 2.2.1 January flight events with ANC airport <a class=\"anchor\" id=\"2.2.1\"></a>\n",
    "[Back to top](#table)"
   ]
  },
  {
   "cell_type": "code",
   "execution_count": 26,
   "metadata": {},
   "outputs": [
    {
     "data": {
      "text/html": [
       "<div>\n",
       "<style scoped>\n",
       "    .dataframe tbody tr th:only-of-type {\n",
       "        vertical-align: middle;\n",
       "    }\n",
       "\n",
       "    .dataframe tbody tr th {\n",
       "        vertical-align: top;\n",
       "    }\n",
       "\n",
       "    .dataframe thead th {\n",
       "        text-align: right;\n",
       "    }\n",
       "</style>\n",
       "<table border=\"1\" class=\"dataframe\">\n",
       "  <thead>\n",
       "    <tr style=\"text-align: right;\">\n",
       "      <th></th>\n",
       "      <th>YEAR</th>\n",
       "      <th>MONTH</th>\n",
       "      <th>DAY</th>\n",
       "      <th>DAY_OF_WEEK</th>\n",
       "      <th>AIRLINE</th>\n",
       "      <th>FLIGHT_NUMBER</th>\n",
       "      <th>TAIL_NUMBER</th>\n",
       "      <th>ORIGIN_AIRPORT</th>\n",
       "      <th>DESTINATION_AIRPORT</th>\n",
       "      <th>SCHEDULED_DEPARTURE</th>\n",
       "      <th>...</th>\n",
       "      <th>ARRIVAL_TIME</th>\n",
       "      <th>ARRIVAL_DELAY</th>\n",
       "      <th>DIVERTED</th>\n",
       "      <th>CANCELLED</th>\n",
       "      <th>CANCELLATION_REASON</th>\n",
       "      <th>AIR_SYSTEM_DELAY</th>\n",
       "      <th>SECURITY_DELAY</th>\n",
       "      <th>AIRLINE_DELAY</th>\n",
       "      <th>LATE_AIRCRAFT_DELAY</th>\n",
       "      <th>WEATHER_DELAY</th>\n",
       "    </tr>\n",
       "  </thead>\n",
       "  <tbody>\n",
       "    <tr>\n",
       "      <th>0</th>\n",
       "      <td>2015</td>\n",
       "      <td>6</td>\n",
       "      <td>26</td>\n",
       "      <td>5</td>\n",
       "      <td>EV</td>\n",
       "      <td>4951</td>\n",
       "      <td>N707EV</td>\n",
       "      <td>BHM</td>\n",
       "      <td>LGA</td>\n",
       "      <td>630</td>\n",
       "      <td>...</td>\n",
       "      <td>950.0</td>\n",
       "      <td>-15.0</td>\n",
       "      <td>0</td>\n",
       "      <td>0</td>\n",
       "      <td>None</td>\n",
       "      <td>NaN</td>\n",
       "      <td>NaN</td>\n",
       "      <td>NaN</td>\n",
       "      <td>NaN</td>\n",
       "      <td>NaN</td>\n",
       "    </tr>\n",
       "    <tr>\n",
       "      <th>1</th>\n",
       "      <td>2015</td>\n",
       "      <td>12</td>\n",
       "      <td>19</td>\n",
       "      <td>6</td>\n",
       "      <td>WN</td>\n",
       "      <td>3589</td>\n",
       "      <td>N764SW</td>\n",
       "      <td>MKE</td>\n",
       "      <td>DCA</td>\n",
       "      <td>1630</td>\n",
       "      <td>...</td>\n",
       "      <td>1903.0</td>\n",
       "      <td>-22.0</td>\n",
       "      <td>0</td>\n",
       "      <td>0</td>\n",
       "      <td>None</td>\n",
       "      <td>NaN</td>\n",
       "      <td>NaN</td>\n",
       "      <td>NaN</td>\n",
       "      <td>NaN</td>\n",
       "      <td>NaN</td>\n",
       "    </tr>\n",
       "    <tr>\n",
       "      <th>2</th>\n",
       "      <td>2015</td>\n",
       "      <td>1</td>\n",
       "      <td>10</td>\n",
       "      <td>6</td>\n",
       "      <td>WN</td>\n",
       "      <td>3370</td>\n",
       "      <td>N720WN</td>\n",
       "      <td>SNA</td>\n",
       "      <td>OAK</td>\n",
       "      <td>1055</td>\n",
       "      <td>...</td>\n",
       "      <td>1214.0</td>\n",
       "      <td>-6.0</td>\n",
       "      <td>0</td>\n",
       "      <td>0</td>\n",
       "      <td>None</td>\n",
       "      <td>NaN</td>\n",
       "      <td>NaN</td>\n",
       "      <td>NaN</td>\n",
       "      <td>NaN</td>\n",
       "      <td>NaN</td>\n",
       "    </tr>\n",
       "    <tr>\n",
       "      <th>3</th>\n",
       "      <td>2015</td>\n",
       "      <td>11</td>\n",
       "      <td>1</td>\n",
       "      <td>7</td>\n",
       "      <td>WN</td>\n",
       "      <td>2081</td>\n",
       "      <td>N461WN</td>\n",
       "      <td>PDX</td>\n",
       "      <td>LAS</td>\n",
       "      <td>1345</td>\n",
       "      <td>...</td>\n",
       "      <td>1541.0</td>\n",
       "      <td>-4.0</td>\n",
       "      <td>0</td>\n",
       "      <td>0</td>\n",
       "      <td>None</td>\n",
       "      <td>NaN</td>\n",
       "      <td>NaN</td>\n",
       "      <td>NaN</td>\n",
       "      <td>NaN</td>\n",
       "      <td>NaN</td>\n",
       "    </tr>\n",
       "    <tr>\n",
       "      <th>4</th>\n",
       "      <td>2015</td>\n",
       "      <td>6</td>\n",
       "      <td>11</td>\n",
       "      <td>4</td>\n",
       "      <td>WN</td>\n",
       "      <td>836</td>\n",
       "      <td>N8628A</td>\n",
       "      <td>BNA</td>\n",
       "      <td>BOS</td>\n",
       "      <td>1635</td>\n",
       "      <td>...</td>\n",
       "      <td>1956.0</td>\n",
       "      <td>-9.0</td>\n",
       "      <td>0</td>\n",
       "      <td>0</td>\n",
       "      <td>None</td>\n",
       "      <td>NaN</td>\n",
       "      <td>NaN</td>\n",
       "      <td>NaN</td>\n",
       "      <td>NaN</td>\n",
       "      <td>NaN</td>\n",
       "    </tr>\n",
       "  </tbody>\n",
       "</table>\n",
       "<p>5 rows × 31 columns</p>\n",
       "</div>"
      ],
      "text/plain": [
       "   YEAR  MONTH  DAY  DAY_OF_WEEK AIRLINE  FLIGHT_NUMBER TAIL_NUMBER  \\\n",
       "0  2015      6   26            5      EV           4951      N707EV   \n",
       "1  2015     12   19            6      WN           3589      N764SW   \n",
       "2  2015      1   10            6      WN           3370      N720WN   \n",
       "3  2015     11    1            7      WN           2081      N461WN   \n",
       "4  2015      6   11            4      WN            836      N8628A   \n",
       "\n",
       "  ORIGIN_AIRPORT DESTINATION_AIRPORT  SCHEDULED_DEPARTURE  ...  ARRIVAL_TIME  \\\n",
       "0            BHM                 LGA                  630  ...         950.0   \n",
       "1            MKE                 DCA                 1630  ...        1903.0   \n",
       "2            SNA                 OAK                 1055  ...        1214.0   \n",
       "3            PDX                 LAS                 1345  ...        1541.0   \n",
       "4            BNA                 BOS                 1635  ...        1956.0   \n",
       "\n",
       "   ARRIVAL_DELAY  DIVERTED  CANCELLED  CANCELLATION_REASON  AIR_SYSTEM_DELAY  \\\n",
       "0          -15.0         0          0                 None               NaN   \n",
       "1          -22.0         0          0                 None               NaN   \n",
       "2           -6.0         0          0                 None               NaN   \n",
       "3           -4.0         0          0                 None               NaN   \n",
       "4           -9.0         0          0                 None               NaN   \n",
       "\n",
       "   SECURITY_DELAY  AIRLINE_DELAY  LATE_AIRCRAFT_DELAY  WEATHER_DELAY  \n",
       "0             NaN            NaN                  NaN            NaN  \n",
       "1             NaN            NaN                  NaN            NaN  \n",
       "2             NaN            NaN                  NaN            NaN  \n",
       "3             NaN            NaN                  NaN            NaN  \n",
       "4             NaN            NaN                  NaN            NaN  \n",
       "\n",
       "[5 rows x 31 columns]"
      ]
     },
     "execution_count": 26,
     "metadata": {},
     "output_type": "execute_result"
    }
   ],
   "source": [
    "# This is used to view how the dataframe looks before making any query\n",
    "flightsDf.toPandas().head()"
   ]
  },
  {
   "cell_type": "code",
   "execution_count": 27,
   "metadata": {},
   "outputs": [
    {
     "name": "stdout",
     "output_type": "stream",
     "text": [
      "115\n",
      "+-----+--------------+-------------------+--------+-------------+\n",
      "|MONTH|ORIGIN_AIRPORT|DESTINATION_AIRPORT|DISTANCE|ARRIVAL_DELAY|\n",
      "+-----+--------------+-------------------+--------+-------------+\n",
      "|    1|           ANC|                SEA|    1448|          -13|\n",
      "|    1|           ANC|                SEA|    1448|           -4|\n",
      "|    1|           ANC|                JNU|     571|           17|\n",
      "|    1|           ANC|                CDV|     160|           20|\n",
      "|    1|           ANC|                BET|     399|          -20|\n",
      "|    1|           ANC|                SEA|    1448|          -15|\n",
      "|    1|           ANC|                SEA|    1448|          -11|\n",
      "|    1|           ANC|                ADQ|     253|          -16|\n",
      "|    1|           ANC|                SEA|    1448|           17|\n",
      "|    1|           ANC|                BET|     399|           -9|\n",
      "|    1|           ANC|                SEA|    1448|           15|\n",
      "|    1|           ANC|                FAI|     261|           -6|\n",
      "|    1|           ANC|                JNU|     571|            2|\n",
      "|    1|           ANC|                JNU|     571|           -3|\n",
      "|    1|           ANC|                PDX|    1542|          -21|\n",
      "|    1|           ANC|                SEA|    1448|           -5|\n",
      "|    1|           ANC|                SEA|    1448|          -15|\n",
      "|    1|           ANC|                PDX|    1542|          -13|\n",
      "|    1|           ANC|                SFO|    2018|           20|\n",
      "|    1|           ANC|                FAI|     261|           56|\n",
      "+-----+--------------+-------------------+--------+-------------+\n",
      "only showing top 20 rows\n",
      "\n"
     ]
    }
   ],
   "source": [
    "# For accessing the column of the dataframe\n",
    "from pyspark.sql.functions import col\n",
    "\n",
    "# Filtering the dataset based on year, month and origin_airport\n",
    "janFlightEventsAncDf = flightsDf.filter((col(\"YEAR\") == 2015) & (col(\"MONTH\") == 1) & (col(\"ORIGIN_AIRPORT\") == \"ANC\"))\n",
    "\n",
    "# Selecting the specified columns\n",
    "janFlightEventsAncDf = janFlightEventsAncDf.select([\"MONTH\", \"ORIGIN_AIRPORT\", \"DESTINATION_AIRPORT\", \"DISTANCE\",\"ARRIVAL_DELAY\"])\n",
    "\n",
    "# Checking the number of records\n",
    "print(janFlightEventsAncDf.count())\n",
    "# Displaying the result\n",
    "janFlightEventsAncDf.show()"
   ]
  },
  {
   "cell_type": "markdown",
   "metadata": {},
   "source": [
    "## Observation:\n",
    "\n",
    "It shows the number of flight taking place from **ANC** airport events in January 2015"
   ]
  },
  {
   "cell_type": "markdown",
   "metadata": {},
   "source": [
    "### 2.2.2 Average Arrival Delay From Origin to Destination <a class=\"anchor\" id=\"2.2.2\"></a>\n",
    "[Back to top](#table)"
   ]
  },
  {
   "cell_type": "code",
   "execution_count": 28,
   "metadata": {},
   "outputs": [
    {
     "name": "stdout",
     "output_type": "stream",
     "text": [
      "18\n",
      "+--------------+-------------------+-------------------+\n",
      "|ORIGIN_AIRPORT|DESTINATION_AIRPORT|      AVERAGE_DELAY|\n",
      "+--------------+-------------------+-------------------+\n",
      "|           ANC|                ADK|              -27.0|\n",
      "|           ANC|                HNL|              -20.0|\n",
      "|           ANC|                MSP|             -19.25|\n",
      "|           ANC|                BET| -9.090909090909092|\n",
      "|           ANC|                SEA| -6.490196078431373|\n",
      "|           ANC|                BRW| -4.333333333333333|\n",
      "|           ANC|                OME|               -3.0|\n",
      "|           ANC|                ADQ|-2.6666666666666665|\n",
      "|           ANC|                CDV|                1.0|\n",
      "|           ANC|                OTZ|               1.25|\n",
      "|           ANC|                PHX|                2.0|\n",
      "|           ANC|                DEN| 3.3333333333333335|\n",
      "|           ANC|                PDX|                3.5|\n",
      "|           ANC|                JNU|                5.0|\n",
      "|           ANC|                LAS|                9.0|\n",
      "|           ANC|                SCC| 16.666666666666668|\n",
      "|           ANC|                SFO|               20.0|\n",
      "|           ANC|                FAI|               25.0|\n",
      "+--------------+-------------------+-------------------+\n",
      "\n"
     ]
    }
   ],
   "source": [
    "import pyspark.sql.functions as F\n",
    "\n",
    "# Grouping the dataset and applying average on the arrival_delay and setting this column as average_delay \n",
    "# and ordering it based on average_delay \n",
    "janFlightEventsAncAvgDf = janFlightEventsAncDf.groupby([\"ORIGIN_AIRPORT\", \"DESTINATION_AIRPORT\"]) \\\n",
    "                            .agg(F.mean(\"ARRIVAL_DELAY\").alias('AVERAGE_DELAY')) \\\n",
    "                            .orderBy(\"AVERAGE_DELAY\")\n",
    "\n",
    "# Checking the number of records\n",
    "print(janFlightEventsAncAvgDf.count())\n",
    "# Displaying the result\n",
    "janFlightEventsAncAvgDf.show()\n"
   ]
  },
  {
   "cell_type": "markdown",
   "metadata": {},
   "source": [
    "## Observation:\n",
    "\n",
    "It shows the average delay of flights taking place from **ANC** airport events in January 2015 with **ADK being at -27 units** and to **FAI at 25 units**"
   ]
  },
  {
   "cell_type": "markdown",
   "metadata": {},
   "source": [
    "### 2.2.3 Join Query with Airports DataFrame <a class=\"anchor\" id=\"2.2.3\"></a>\n",
    "[Back to top](#table)"
   ]
  },
  {
   "cell_type": "code",
   "execution_count": 29,
   "metadata": {},
   "outputs": [
    {
     "data": {
      "text/html": [
       "<div>\n",
       "<style scoped>\n",
       "    .dataframe tbody tr th:only-of-type {\n",
       "        vertical-align: middle;\n",
       "    }\n",
       "\n",
       "    .dataframe tbody tr th {\n",
       "        vertical-align: top;\n",
       "    }\n",
       "\n",
       "    .dataframe thead th {\n",
       "        text-align: right;\n",
       "    }\n",
       "</style>\n",
       "<table border=\"1\" class=\"dataframe\">\n",
       "  <thead>\n",
       "    <tr style=\"text-align: right;\">\n",
       "      <th></th>\n",
       "      <th>IATA_CODE</th>\n",
       "      <th>AIRPORT</th>\n",
       "      <th>CITY</th>\n",
       "      <th>STATE</th>\n",
       "      <th>COUNTRY</th>\n",
       "      <th>LATITUDE</th>\n",
       "      <th>LONGITUDE</th>\n",
       "    </tr>\n",
       "  </thead>\n",
       "  <tbody>\n",
       "    <tr>\n",
       "      <th>0</th>\n",
       "      <td>ABE</td>\n",
       "      <td>Lehigh Valley International Airport</td>\n",
       "      <td>Allentown</td>\n",
       "      <td>PA</td>\n",
       "      <td>USA</td>\n",
       "      <td>40.65236</td>\n",
       "      <td>-75.44040</td>\n",
       "    </tr>\n",
       "    <tr>\n",
       "      <th>1</th>\n",
       "      <td>ABI</td>\n",
       "      <td>Abilene Regional Airport</td>\n",
       "      <td>Abilene</td>\n",
       "      <td>TX</td>\n",
       "      <td>USA</td>\n",
       "      <td>32.41132</td>\n",
       "      <td>-99.68190</td>\n",
       "    </tr>\n",
       "    <tr>\n",
       "      <th>2</th>\n",
       "      <td>ABQ</td>\n",
       "      <td>Albuquerque International Sunport</td>\n",
       "      <td>Albuquerque</td>\n",
       "      <td>NM</td>\n",
       "      <td>USA</td>\n",
       "      <td>35.04022</td>\n",
       "      <td>-106.60919</td>\n",
       "    </tr>\n",
       "    <tr>\n",
       "      <th>3</th>\n",
       "      <td>ABR</td>\n",
       "      <td>Aberdeen Regional Airport</td>\n",
       "      <td>Aberdeen</td>\n",
       "      <td>SD</td>\n",
       "      <td>USA</td>\n",
       "      <td>45.44906</td>\n",
       "      <td>-98.42183</td>\n",
       "    </tr>\n",
       "    <tr>\n",
       "      <th>4</th>\n",
       "      <td>ABY</td>\n",
       "      <td>Southwest Georgia Regional Airport</td>\n",
       "      <td>Albany</td>\n",
       "      <td>GA</td>\n",
       "      <td>USA</td>\n",
       "      <td>31.53552</td>\n",
       "      <td>-84.19447</td>\n",
       "    </tr>\n",
       "  </tbody>\n",
       "</table>\n",
       "</div>"
      ],
      "text/plain": [
       "  IATA_CODE                              AIRPORT         CITY STATE COUNTRY  \\\n",
       "0       ABE  Lehigh Valley International Airport    Allentown    PA     USA   \n",
       "1       ABI             Abilene Regional Airport      Abilene    TX     USA   \n",
       "2       ABQ    Albuquerque International Sunport  Albuquerque    NM     USA   \n",
       "3       ABR            Aberdeen Regional Airport     Aberdeen    SD     USA   \n",
       "4       ABY   Southwest Georgia Regional Airport       Albany    GA     USA   \n",
       "\n",
       "   LATITUDE  LONGITUDE  \n",
       "0  40.65236  -75.44040  \n",
       "1  32.41132  -99.68190  \n",
       "2  35.04022 -106.60919  \n",
       "3  45.44906  -98.42183  \n",
       "4  31.53552  -84.19447  "
      ]
     },
     "execution_count": 29,
     "metadata": {},
     "output_type": "execute_result"
    }
   ],
   "source": [
    "# This is used to view how the dataframe looks before making any query\n",
    "airportsDf.toPandas().head()"
   ]
  },
  {
   "cell_type": "code",
   "execution_count": 30,
   "metadata": {},
   "outputs": [
    {
     "name": "stdout",
     "output_type": "stream",
     "text": [
      "18\n",
      "+---------+--------------------+-------------+-----+-------+--------+----------+--------------+-------------------+-------------------+\n",
      "|IATA_CODE|             AIRPORT|         CITY|STATE|COUNTRY|LATITUDE| LONGITUDE|ORIGIN_AIRPORT|DESTINATION_AIRPORT|      AVERAGE_DELAY|\n",
      "+---------+--------------------+-------------+-----+-------+--------+----------+--------------+-------------------+-------------------+\n",
      "|      BRW|Wiley Post-Will R...|       Barrow|   AK|    USA|71.28545|  -156.766|           ANC|                BRW| -4.333333333333333|\n",
      "|      ADK|        Adak Airport|         Adak|   AK|    USA|51.87796|-176.64603|           ANC|                ADK|              -27.0|\n",
      "|      OME|        Nome Airport|         Nome|   AK|    USA| 64.5122|-165.44525|           ANC|                OME|               -3.0|\n",
      "|      JNU|Juneau Internatio...|       Juneau|   AK|    USA|58.35496|-134.57628|           ANC|                JNU|                5.0|\n",
      "|      LAS|McCarran Internat...|    Las Vegas|   NV|    USA|36.08036|-115.15233|           ANC|                LAS|                9.0|\n",
      "|      SCC|Deadhorse Airport...|    Deadhorse|   AK|    USA|70.19476|-148.46516|           ANC|                SCC| 16.666666666666668|\n",
      "|      CDV|Merle K. (Mudhole...|      Cordova|   AK|    USA|60.49183|-145.47765|           ANC|                CDV|                1.0|\n",
      "|      DEN|Denver Internatio...|       Denver|   CO|    USA|39.85841|  -104.667|           ANC|                DEN| 3.3333333333333335|\n",
      "|      OTZ|Ralph Wien Memori...|     Kotzebue|   AK|    USA|66.88468|-162.59855|           ANC|                OTZ|               1.25|\n",
      "|      SFO|San Francisco Int...|San Francisco|   CA|    USA|  37.619|-122.37484|           ANC|                SFO|               20.0|\n",
      "|      FAI|Fairbanks Interna...|    Fairbanks|   AK|    USA|64.81368|-147.85967|           ANC|                FAI|               25.0|\n",
      "|      ADQ|      Kodiak Airport|       Kodiak|   AK|    USA|57.74997|-152.49386|           ANC|                ADQ|-2.6666666666666665|\n",
      "|      PDX|Portland Internat...|     Portland|   OR|    USA|45.58872| -122.5975|           ANC|                PDX|                3.5|\n",
      "|      PHX|Phoenix Sky Harbo...|      Phoenix|   AZ|    USA|33.43417|-112.00806|           ANC|                PHX|                2.0|\n",
      "|      HNL|Honolulu Internat...|     Honolulu|   HI|    USA|21.31869|-157.92241|           ANC|                HNL|              -20.0|\n",
      "|      SEA|Seattle-Tacoma In...|      Seattle|   WA|    USA|47.44898|-122.30931|           ANC|                SEA| -6.490196078431373|\n",
      "|      MSP|Minneapolis-Saint...|  Minneapolis|   MN|    USA|44.88055| -93.21692|           ANC|                MSP|             -19.25|\n",
      "|      BET|      Bethel Airport|       Bethel|   AK|    USA|60.77978|  -161.838|           ANC|                BET| -9.090909090909092|\n",
      "+---------+--------------------+-------------+-----+-------+--------+----------+--------------+-------------------+-------------------+\n",
      "\n"
     ]
    }
   ],
   "source": [
    "# Joining the airports dataframe and janFlightEventsAncAvgDf using inner join with key as IATA_CODE and the Destination_Airport \n",
    "joinedSqlDf =  airportsDf.join(janFlightEventsAncAvgDf,airportsDf.IATA_CODE==janFlightEventsAncAvgDf.DESTINATION_AIRPORT,how='inner')\n",
    "\n",
    "# Checking the number of records\n",
    "print(joinedSqlDf.count())\n",
    "\n",
    "# Displaying the result\n",
    "joinedSqlDf.show()"
   ]
  },
  {
   "cell_type": "code",
   "execution_count": 31,
   "metadata": {},
   "outputs": [
    {
     "name": "stdout",
     "output_type": "stream",
     "text": [
      "== Physical Plan ==\n",
      "*(3) BroadcastHashJoin [IATA_CODE#94], [DESTINATION_AIRPORT#24], Inner, BuildLeft, false\n",
      ":- BroadcastExchange HashedRelationBroadcastMode(List(input[0, string, false]),false), [id=#322]\n",
      ":  +- *(1) Filter isnotnull(IATA_CODE#94)\n",
      ":     +- FileScan csv [IATA_CODE#94,AIRPORT#95,CITY#96,STATE#97,COUNTRY#98,LATITUDE#99,LONGITUDE#100] Batched: false, DataFilters: [isnotnull(IATA_CODE#94)], Format: CSV, Location: InMemoryFileIndex[file:/Users/navalaggarwal/Desktop/WEBSITE projects/Flight Delays in USA/Data An..., PartitionFilters: [], PushedFilters: [IsNotNull(IATA_CODE)], ReadSchema: struct<IATA_CODE:string,AIRPORT:string,CITY:string,STATE:string,COUNTRY:string,LATITUDE:double,LO...\n",
      "+- *(3) HashAggregate(keys=[ORIGIN_AIRPORT#23, DESTINATION_AIRPORT#24], functions=[avg(cast(ARRIVAL_DELAY#38 as bigint))])\n",
      "   +- Exchange hashpartitioning(ORIGIN_AIRPORT#23, DESTINATION_AIRPORT#24, 200), ENSURE_REQUIREMENTS, [id=#329]\n",
      "      +- *(2) HashAggregate(keys=[ORIGIN_AIRPORT#23, DESTINATION_AIRPORT#24], functions=[partial_avg(cast(ARRIVAL_DELAY#38 as bigint))])\n",
      "         +- *(2) Project [ORIGIN_AIRPORT#23, DESTINATION_AIRPORT#24, ARRIVAL_DELAY#38]\n",
      "            +- *(2) Filter ((((((isnotnull(YEAR#16) AND isnotnull(MONTH#17)) AND isnotnull(ORIGIN_AIRPORT#23)) AND (YEAR#16 = 2015)) AND (MONTH#17 = 1)) AND (ORIGIN_AIRPORT#23 = ANC)) AND isnotnull(DESTINATION_AIRPORT#24))\n",
      "               +- FileScan csv [YEAR#16,MONTH#17,ORIGIN_AIRPORT#23,DESTINATION_AIRPORT#24,ARRIVAL_DELAY#38] Batched: false, DataFilters: [isnotnull(YEAR#16), isnotnull(MONTH#17), isnotnull(ORIGIN_AIRPORT#23), (YEAR#16 = 2015), (MONTH#..., Format: CSV, Location: InMemoryFileIndex[file:/Users/navalaggarwal/Desktop/WEBSITE projects/Flight Delays in USA/Data An..., PartitionFilters: [], PushedFilters: [IsNotNull(YEAR), IsNotNull(MONTH), IsNotNull(ORIGIN_AIRPORT), EqualTo(YEAR,2015), EqualTo(MONTH,..., ReadSchema: struct<YEAR:int,MONTH:int,ORIGIN_AIRPORT:string,DESTINATION_AIRPORT:string,ARRIVAL_DELAY:int>\n",
      "\n",
      "\n"
     ]
    }
   ],
   "source": [
    "# .explain() method is used to verify the partitioning and the query plan when an action is performed\n",
    "joinedSqlDf.explain()"
   ]
  },
  {
   "cell_type": "markdown",
   "metadata": {},
   "source": [
    "## Observation:\n",
    "\n",
    "As the number of records in janFlightEventsAncAvgDf is 18 (i.e. smaller dataset), therefore Spark uses Broadcast Hash join to join these dataframes. "
   ]
  },
  {
   "cell_type": "markdown",
   "metadata": {},
   "source": [
    "## 2.3. Analysis <a class=\"anchor\" id=\"2.3\"></a>\n",
    "### 2.3.1 Relationship between day of week with mean arrival delay, total time delay, and count flights <a class=\"anchor\" id=\"2.3.1\"></a>\n",
    "[Back to top](#table)"
   ]
  },
  {
   "cell_type": "code",
   "execution_count": 32,
   "metadata": {},
   "outputs": [],
   "source": [
    "# Converting the dataframes into SQL formats\n",
    "flightsDf.createOrReplaceTempView(\"sql_flights\")\n",
    "airportsDf.createOrReplaceTempView(\"sql_airports\")"
   ]
  },
  {
   "cell_type": "code",
   "execution_count": 33,
   "metadata": {},
   "outputs": [
    {
     "name": "stdout",
     "output_type": "stream",
     "text": [
      "7\n",
      "+-----------+------------------+--------------+------------+\n",
      "|DAY_OF_WEEK|  MeanArrivalDelay|TotalTimeDelay|NumOfFlights|\n",
      "+-----------+------------------+--------------+------------+\n",
      "|          4| 5.684831897201573|         86227|       87683|\n",
      "|          1| 5.883000999381335|         84052|       86317|\n",
      "|          5| 4.715112525093624|         85181|       86253|\n",
      "|          3|3.9745505431431147|         84324|       85607|\n",
      "|          2| 4.391518272706391|         82719|       84449|\n",
      "|          7| 4.299206488272548|         79898|       81422|\n",
      "|          6| 1.813841449342257|         69328|       70453|\n",
      "+-----------+------------------+--------------+------------+\n",
      "\n"
     ]
    }
   ],
   "source": [
    "# Creating SQL query \n",
    "sql_flights_per_day = spark.sql('''\n",
    "  SELECT DAY_OF_WEEK, mean(ARRIVAL_DELAY) as MeanArrivalDelay, count(ARRIVAL_DELAY) as TotalTimeDelay,\n",
    "  count(FLIGHT_NUMBER) as NumOfFlights\n",
    "  \n",
    "  FROM sql_flights\n",
    "  WHERE YEAR == 2015\n",
    "  GROUP BY DAY_OF_WEEK\n",
    "  ORDER BY NumOfFlights DESC\n",
    "\n",
    "''')\n",
    "# Displaying the number of rows\n",
    "print(sql_flights_per_day.count())\n",
    "sql_flights_per_day.show()\n"
   ]
  },
  {
   "cell_type": "markdown",
   "metadata": {},
   "source": [
    "## Observation:\n",
    "\n",
    "It shows that the number of flights is maximum on **Thursday (87683)** followed by **Monday (86317)**  and **Friday (86354)** and the minimum flights on **Saturday (70453)**. This could be explained by the fact that people plan their flights on Thursday and get the returning flights on Monday. \n",
    "\n",
    "It shows that the the total time delay is maximum on **Thursday** followed by **Friday**  and **Wednesday** and the minimum flights on **Saturday** and **Sunday**. It appears that on weekdays there is a longer time delay as compared to weekends.\n",
    "\n",
    "It shows that the the mean arrival delay(arrival time - schedule arrival) is maximum on **Monday** followed by **Thursday**  and **Friday** and the minimum flights on **Saturday**."
   ]
  },
  {
   "cell_type": "markdown",
   "metadata": {},
   "source": [
    "### 2.3.2 Display mean arrival delay each month <a class=\"anchor\" id=\"2.3.2\"></a>\n",
    "[Back to top](#table)"
   ]
  },
  {
   "cell_type": "code",
   "execution_count": 34,
   "metadata": {},
   "outputs": [
    {
     "name": "stdout",
     "output_type": "stream",
     "text": [
      "12\n",
      "+-----+-------------------+--------------+------------+\n",
      "|MONTH|   MeanArrivalDelay|TotalTimeDelay|NumOfFlights|\n",
      "+-----+-------------------+--------------+------------+\n",
      "|    9|-0.8498676252179341|         46459|       46733|\n",
      "|   10| -0.541989784312509|         48357|       48680|\n",
      "|   11| 0.8313745860658399|         46203|       46809|\n",
      "|    4|  3.173803944339603|         48221|       48810|\n",
      "|    5| 4.7121097658084405|         48977|       49691|\n",
      "|    8|  4.713893233866763|         49866|       50524|\n",
      "|    3|  5.011173860427592|         49580|       50816|\n",
      "|    1|  5.804357298474946|         45900|       47136|\n",
      "|   12|   6.15837046195826|         46909|       47866|\n",
      "|    7|  6.786093552465234|         51415|       52065|\n",
      "|    2|  8.123906203913085|         40684|       42798|\n",
      "|    6|  9.747630090727856|         49158|       50256|\n",
      "+-----+-------------------+--------------+------------+\n",
      "\n"
     ]
    }
   ],
   "source": [
    "# Creating SQL query \n",
    "sql_flights_per_months = spark.sql('''\n",
    "  SELECT MONTH, mean(ARRIVAL_DELAY) as MeanArrivalDelay, count(ARRIVAL_DELAY) as TotalTimeDelay,\n",
    "  count(FLIGHT_NUMBER) as NumOfFlights\n",
    "  \n",
    "  FROM sql_flights\n",
    "  GROUP BY MONTH\n",
    "  ORDER BY MeanArrivalDelay\n",
    "\n",
    "''')\n",
    "# Displaying the number of rows\n",
    "print(sql_flights_per_months.count())\n",
    "sql_flights_per_months.show()\n"
   ]
  },
  {
   "cell_type": "markdown",
   "metadata": {},
   "source": [
    "## Observation:\n",
    "\n",
    "It shows that the average arrival delay is minimum on **September** followed by **October**  and **November** and the maximum arrival delay on **June**.  \n",
    "\n",
    "It shows that the total time delay is minimum on **February** followed by **January**  and **November** and the maximum arrival delay on **July** and **August**. \n",
    "\n",
    "It shows that the number of flights is minimum on **February** followed by **September**  and **November** and the maximum arrival delay on **July**. "
   ]
  },
  {
   "cell_type": "markdown",
   "metadata": {},
   "source": [
    "### 2.3.3 Relationship between mean departure delay and mean arrival delay <a class=\"anchor\" id=\"2.3.3\"></a>\n",
    "[Back to top](#table)"
   ]
  },
  {
   "cell_type": "code",
   "execution_count": 35,
   "metadata": {},
   "outputs": [
    {
     "name": "stdout",
     "output_type": "stream",
     "text": [
      "12\n",
      "+-----+-------------------+------------------+\n",
      "|MONTH|   MeanArrivalDelay|     MeanDeptDelay|\n",
      "+-----+-------------------+------------------+\n",
      "|    6|  9.747630090727856|  13.9730063585922|\n",
      "|   12|   6.15837046195826|11.821651454043728|\n",
      "|    7|  6.786093552465234|11.708608758020432|\n",
      "|    2|  8.123906203913085|11.620796080832823|\n",
      "|    8|  4.713893233866763|10.086906141367324|\n",
      "|    1|  5.804357298474946|  9.75401499511029|\n",
      "|    3|  5.011173860427592| 9.718308159530178|\n",
      "|    5| 4.7121097658084405| 9.550310180006102|\n",
      "|    4|  3.173803944339603| 7.737554783759199|\n",
      "|   11| 0.8313745860658399| 6.630585898709037|\n",
      "|   10| -0.541989784312509| 5.243436261558784|\n",
      "|    9|-0.8498676252179341| 4.728506981740065|\n",
      "+-----+-------------------+------------------+\n",
      "\n"
     ]
    }
   ],
   "source": [
    "# Creating SQL query \n",
    "sql_flights_per_months_delays = spark.sql('''\n",
    "  SELECT MONTH, mean(ARRIVAL_DELAY) as MeanArrivalDelay, mean(DEPARTURE_DELAY) as MeanDeptDelay\n",
    "  \n",
    "  FROM sql_flights\n",
    "  GROUP BY MONTH\n",
    "  ORDER BY MeanDeptDelay DESC\n",
    "\n",
    "''')\n",
    "# Displaying the number of rows\n",
    "print(sql_flights_per_months_delays.count())\n",
    "sql_flights_per_months_delays.show()"
   ]
  },
  {
   "cell_type": "code",
   "execution_count": 36,
   "metadata": {},
   "outputs": [
    {
     "name": "stdout",
     "output_type": "stream",
     "text": [
      "12\n",
      "+-----+-------------------+------------------+\n",
      "|MONTH|   MeanArrivalDelay|     MeanDeptDelay|\n",
      "+-----+-------------------+------------------+\n",
      "|    6|  9.747630090727856|  13.9730063585922|\n",
      "|    2|  8.123906203913085|11.620796080832823|\n",
      "|    7|  6.786093552465234|11.708608758020432|\n",
      "|   12|   6.15837046195826|11.821651454043728|\n",
      "|    1|  5.804357298474946|  9.75401499511029|\n",
      "|    3|  5.011173860427592| 9.718308159530178|\n",
      "|    8|  4.713893233866763|10.086906141367324|\n",
      "|    5| 4.7121097658084405| 9.550310180006102|\n",
      "|    4|  3.173803944339603| 7.737554783759199|\n",
      "|   11| 0.8313745860658399| 6.630585898709037|\n",
      "|   10| -0.541989784312509| 5.243436261558784|\n",
      "|    9|-0.8498676252179341| 4.728506981740065|\n",
      "+-----+-------------------+------------------+\n",
      "\n"
     ]
    }
   ],
   "source": [
    "# Creating SQL query \n",
    "sql_flights_per_months_delays = spark.sql('''\n",
    "  SELECT MONTH, mean(ARRIVAL_DELAY) as MeanArrivalDelay, mean(DEPARTURE_DELAY) as MeanDeptDelay\n",
    "  \n",
    "  FROM sql_flights\n",
    "  GROUP BY MONTH\n",
    "  ORDER BY MeanArrivalDelay DESC\n",
    "\n",
    "''')\n",
    "# Displaying the number of rows\n",
    "print(sql_flights_per_months_delays.count())\n",
    "sql_flights_per_months_delays.show()"
   ]
  },
  {
   "cell_type": "markdown",
   "metadata": {},
   "source": [
    "## Observation:\n",
    "\n",
    "It shows that the average dept delay is maximum on **June** followed by **December**  and **July** and the minimum dept delay on **September**.  \n",
    "\n",
    "\n",
    "It shows that the average arrival delay is maximum on **June** followed by **February**  and **July** and the minimum arrival delay on **September**.  \n",
    "\n",
    "This explains that both average dept delay and average arrival delay have maximum in June and minimum in September. There could be a linear relation between both both months."
   ]
  },
  {
   "cell_type": "markdown",
   "metadata": {},
   "source": [
    "# 3 RDDs vs DataFrame vs Spark SQL <a class=\"anchor\" id=\"3\"></a>\n",
    "\n",
    "\n",
    "Implement the following queries using RDDs, DataFrames and SparkSQL separately. Log the time taken for each query in each approach using the “%%time” built-in magic command in Jupyter Notebook and discuss the performance difference of these 3 approaches.\n",
    "\n",
    "<strong>Find the MONTH and DAY_OF_WEEK, number of flights, and average delay where TAIL_NUMBER = ‘N407AS’. Note number of flights and average delay should be aggregated separately. The average delay should be grouped by both MONTH and DAYS_OF_WEEK.</strong>\n",
    "\n",
    "## 3.1 RDD Operation<a class=\"anchor\" id=\"3.1\"></a>\n",
    "[Back to top](#table)"
   ]
  },
  {
   "cell_type": "code",
   "execution_count": 37,
   "metadata": {},
   "outputs": [
    {
     "name": "stdout",
     "output_type": "stream",
     "text": [
      "root\n",
      " |-- YEAR: integer (nullable = true)\n",
      " |-- MONTH: integer (nullable = true)\n",
      " |-- DAY: integer (nullable = true)\n",
      " |-- DAY_OF_WEEK: integer (nullable = true)\n",
      " |-- AIRLINE: string (nullable = true)\n",
      " |-- FLIGHT_NUMBER: integer (nullable = true)\n",
      " |-- TAIL_NUMBER: string (nullable = true)\n",
      " |-- ORIGIN_AIRPORT: string (nullable = true)\n",
      " |-- DESTINATION_AIRPORT: string (nullable = true)\n",
      " |-- SCHEDULED_DEPARTURE: integer (nullable = true)\n",
      " |-- DEPARTURE_TIME: integer (nullable = true)\n",
      " |-- DEPARTURE_DELAY: integer (nullable = true)\n",
      " |-- TAXI_OUT: integer (nullable = true)\n",
      " |-- WHEELS_OFF: integer (nullable = true)\n",
      " |-- SCHEDULED_TIME: integer (nullable = true)\n",
      " |-- ELAPSED_TIME: integer (nullable = true)\n",
      " |-- AIR_TIME: integer (nullable = true)\n",
      " |-- DISTANCE: integer (nullable = true)\n",
      " |-- WHEELS_ON: integer (nullable = true)\n",
      " |-- TAXI_IN: integer (nullable = true)\n",
      " |-- SCHEDULED_ARRIVAL: integer (nullable = true)\n",
      " |-- ARRIVAL_TIME: integer (nullable = true)\n",
      " |-- ARRIVAL_DELAY: integer (nullable = true)\n",
      " |-- DIVERTED: integer (nullable = true)\n",
      " |-- CANCELLED: integer (nullable = true)\n",
      " |-- CANCELLATION_REASON: string (nullable = true)\n",
      " |-- AIR_SYSTEM_DELAY: integer (nullable = true)\n",
      " |-- SECURITY_DELAY: integer (nullable = true)\n",
      " |-- AIRLINE_DELAY: integer (nullable = true)\n",
      " |-- LATE_AIRCRAFT_DELAY: integer (nullable = true)\n",
      " |-- WEATHER_DELAY: integer (nullable = true)\n",
      "\n"
     ]
    }
   ],
   "source": [
    "flightsDf.printSchema()"
   ]
  },
  {
   "cell_type": "code",
   "execution_count": 38,
   "metadata": {},
   "outputs": [
    {
     "name": "stdout",
     "output_type": "stream",
     "text": [
      "CPU times: user 13 µs, sys: 1 µs, total: 14 µs\n",
      "Wall time: 15 µs\n"
     ]
    }
   ],
   "source": [
    "%%time\n",
    "tail_number_rdd = flights_rdd.filter(lambda x: x[6] == \"N407AS\")\n"
   ]
  },
  {
   "cell_type": "markdown",
   "metadata": {},
   "source": [
    "## 3.2 DataFrame Operation<a class=\"anchor\" id=\"3.2\"></a>\n",
    "[Back to top](#table)"
   ]
  },
  {
   "cell_type": "code",
   "execution_count": 39,
   "metadata": {},
   "outputs": [
    {
     "name": "stdout",
     "output_type": "stream",
     "text": [
      "66\n",
      "+-----+-----------+------------+-------------------+------------------+\n",
      "|MONTH|DAY_OF_WEEK|NumOfFlights|   MeanArrivalDelay|     MeanDeptDelay|\n",
      "+-----+-----------+------------+-------------------+------------------+\n",
      "|   12|          4|           1|                6.0|               2.0|\n",
      "|    4|          6|           1|              -20.0|               1.0|\n",
      "|   12|          7|           2|               -1.0|              -2.0|\n",
      "|    1|          1|           1|               -6.0|               4.0|\n",
      "|    3|          4|           1|                2.0|               1.0|\n",
      "|    1|          6|           3|  4.333333333333333| 8.666666666666666|\n",
      "|    3|          2|           2|              -28.0|              -5.5|\n",
      "|    9|          4|           3|-10.666666666666666|-8.333333333333334|\n",
      "|    5|          6|           2|               -3.0|               0.5|\n",
      "|   11|          7|           3|               -4.0|              -5.0|\n",
      "|   12|          2|           2|              -11.5|               1.0|\n",
      "|    9|          1|           2|              -15.5|              -5.5|\n",
      "|    3|          3|           1|                3.0|              28.0|\n",
      "|   12|          3|           2|               18.5|               1.5|\n",
      "|    2|          7|           2|                6.5|              -7.0|\n",
      "|    6|          6|           3| -7.666666666666667|              -2.0|\n",
      "|    9|          3|           5|              -14.6|              -5.2|\n",
      "|    9|          5|           1|                5.0|               4.0|\n",
      "|    1|          5|           2|              -21.0|              -6.0|\n",
      "|    3|          6|           1|               -3.0|              -1.0|\n",
      "+-----+-----------+------------+-------------------+------------------+\n",
      "only showing top 20 rows\n",
      "\n",
      "CPU times: user 6.2 ms, sys: 2.69 ms, total: 8.88 ms\n",
      "Wall time: 939 ms\n"
     ]
    }
   ],
   "source": [
    "%%time\n",
    "\n",
    "# Filtering the dataset based on year, month and origin_airport\n",
    "tailNumberDf = flightsDf.filter(col(\"TAIL_NUMBER\") == \"N407AS\")\n",
    "\n",
    "tailNumberDf = tailNumberDf.groupby([\"MONTH\", \"DAY_OF_WEEK\",\"TAIL_NUMBER\"]) \\\n",
    "                            .agg(F.mean(\"ARRIVAL_DELAY\").alias('MeanArrivalDelay'), \n",
    "                                F.mean(\"DEPARTURE_DELAY\").alias('MeanDeptDelay'), \n",
    "                                F.count(\"FLIGHT_NUMBER\").alias('NumOfFlights'))\n",
    "\n",
    "# Selecting the specified columns\n",
    "tailNumberDf = tailNumberDf.select([\"MONTH\",\"DAY_OF_WEEK\", \"NumOfFlights\", \"MeanArrivalDelay\", \"MeanDeptDelay\"])\n",
    "\n",
    "print(tailNumberDf.count())\n",
    "# Displaying the result\n",
    "tailNumberDf.show()\n"
   ]
  },
  {
   "cell_type": "markdown",
   "metadata": {},
   "source": [
    "## 3.3 Spark SQL OPERATION<a class=\"anchor\" id=\"3.3\"></a>\n",
    "[Back to top](#table)"
   ]
  },
  {
   "cell_type": "code",
   "execution_count": 40,
   "metadata": {},
   "outputs": [
    {
     "name": "stdout",
     "output_type": "stream",
     "text": [
      "66\n",
      "+-----+-----------+-------------------+------------------+------------+\n",
      "|MONTH|DAY_OF_WEEK|   MeanArrivalDelay|     MeanDeptDelay|NumOfFlights|\n",
      "+-----+-----------+-------------------+------------------+------------+\n",
      "|   12|          4|                6.0|               2.0|           1|\n",
      "|    4|          6|              -20.0|               1.0|           1|\n",
      "|   12|          7|               -1.0|              -2.0|           2|\n",
      "|    1|          1|               -6.0|               4.0|           1|\n",
      "|    3|          4|                2.0|               1.0|           1|\n",
      "|    1|          6|  4.333333333333333| 8.666666666666666|           3|\n",
      "|    3|          2|              -28.0|              -5.5|           2|\n",
      "|    9|          4|-10.666666666666666|-8.333333333333334|           3|\n",
      "|    5|          6|               -3.0|               0.5|           2|\n",
      "|   11|          7|               -4.0|              -5.0|           3|\n",
      "|   12|          2|              -11.5|               1.0|           2|\n",
      "|    9|          1|              -15.5|              -5.5|           2|\n",
      "|    3|          3|                3.0|              28.0|           1|\n",
      "|   12|          3|               18.5|               1.5|           2|\n",
      "|    2|          7|                6.5|              -7.0|           2|\n",
      "|    6|          6| -7.666666666666667|              -2.0|           3|\n",
      "|    9|          3|              -14.6|              -5.2|           5|\n",
      "|    9|          5|                5.0|               4.0|           1|\n",
      "|    1|          5|              -21.0|              -6.0|           2|\n",
      "|    3|          6|               -3.0|              -1.0|           1|\n",
      "+-----+-----------+-------------------+------------------+------------+\n",
      "only showing top 20 rows\n",
      "\n",
      "CPU times: user 2.06 ms, sys: 1.44 ms, total: 3.51 ms\n",
      "Wall time: 1.02 s\n"
     ]
    }
   ],
   "source": [
    "%%time\n",
    "# Creating SQL query \n",
    "sql_tail_number = spark.sql('''\n",
    "  SELECT MONTH, DAY_OF_WEEK,\n",
    "  mean(ARRIVAL_DELAY) as MeanArrivalDelay, mean(DEPARTURE_DELAY) as MeanDeptDelay, \n",
    "  count(FLIGHT_NUMBER) as NumOfFlights\n",
    "  \n",
    "  FROM sql_flights\n",
    "  WHERE TAIL_NUMBER == \"N407AS\"\n",
    "  GROUP BY MONTH, DAY_OF_WEEK, TAIL_NUMBER\n",
    "\n",
    "''')\n",
    "# Displaying the number of rows\n",
    "print(sql_tail_number.count())\n",
    "sql_tail_number.show()"
   ]
  },
  {
   "cell_type": "markdown",
   "metadata": {},
   "source": [
    "## 3.4 Discussion<a class=\"anchor\" id=\"3.4\"></a>\n",
    "[Back to top](#table)"
   ]
  },
  {
   "cell_type": "markdown",
   "metadata": {},
   "source": [
    "For certain queries RDD outperforms the dataframe and SQL queries but it is very difficult to construct programatically and requeries in depth of RDD structures.\n",
    "\n",
    "In terms of performance, there is no much significant difference between queries through Dataframe or SQL as the execution engine and internal data structures are same for both the methods.\n",
    "\n",
    "The data frame queries are much easier to construct programmatically whereas SQL queries are more concise and easier to comprehend."
   ]
  }
 ],
 "metadata": {
  "colab": {
   "collapsed_sections": [],
   "name": "FIT5202 Assignment 1 SOLUTION.ipynb",
   "provenance": []
  },
  "kernelspec": {
   "display_name": "Python 3",
   "language": "python",
   "name": "python3"
  },
  "language_info": {
   "codemirror_mode": {
    "name": "ipython",
    "version": 3
   },
   "file_extension": ".py",
   "mimetype": "text/x-python",
   "name": "python",
   "nbconvert_exporter": "python",
   "pygments_lexer": "ipython3",
   "version": "3.8.8"
  }
 },
 "nbformat": 4,
 "nbformat_minor": 1
}
