{
 "cells": [
  {
   "cell_type": "markdown",
   "metadata": {},
   "source": [
    "# FIT5202 - Data Processing for Big Data S2 2021 \n",
    "# Assessment 2B-Task3: Streaming Application\n",
    "\n",
    "\n",
    "Student information\n",
    "- Family Name: Aggarwal\n",
    "- Given Name: Naval\n",
    "- Student ID: 31153054\n",
    "- Student email: nagg0001@student.monash.edu"
   ]
  },
  {
   "cell_type": "markdown",
   "metadata": {},
   "source": [
    "### Import Libraries"
   ]
  },
  {
   "cell_type": "code",
   "execution_count": 1,
   "metadata": {},
   "outputs": [],
   "source": [
    "import os\n",
    "os.environ['PYSPARK_SUBMIT_ARGS'] = '--packages org.apache.spark:spark-streaming-kafka-0-10_2.12:3.0.0,org.apache.spark:spark-sql-kafka-0-10_2.12:3.0.0 pyspark-shell'\n",
    "from pyspark import SparkContext\n",
    "from pyspark.sql import SparkSession\n",
    "from pyspark.sql.functions import explode\n",
    "from pyspark.sql.functions import split\n",
    "from pyspark.sql import functions as F\n",
    "from pyspark.sql.types import *\n",
    "from pyspark import SparkConf"
   ]
  },
  {
   "cell_type": "markdown",
   "metadata": {},
   "source": [
    "### Creating a spark session"
   ]
  },
  {
   "cell_type": "code",
   "execution_count": 2,
   "metadata": {},
   "outputs": [],
   "source": [
    "master = \"local\"\n",
    "#app _name\n",
    "app_name = \"Assignment-2B-Task3\"\n",
    "spark_conf = SparkConf().setMaster(master).setAppName(app_name)\n",
    "\n",
    "# Initialising with UTC timezone \n",
    "spark = SparkSession\\\n",
    "    .builder\\\n",
    "    .config(conf=spark_conf)\\\n",
    "    .config(\"spark.sql.session.timezone\",\"UTC\")\\\n",
    "    .getOrCreate()\n",
    "sc = spark.sparkContext\n",
    "sc.setLogLevel('ERROR')"
   ]
  },
  {
   "cell_type": "markdown",
   "metadata": {},
   "source": [
    "### Ingested the streaming data into spark streams"
   ]
  },
  {
   "cell_type": "code",
   "execution_count": 3,
   "metadata": {},
   "outputs": [],
   "source": [
    "# The topic of producer\n",
    "topic = 'flightTopic'\n",
    "\n",
    "# Connection to Kafka process and subscribing to the topic and loading the data with readStream\n",
    "df_flights = spark \\\n",
    "    .readStream \\\n",
    "    .format(\"kafka\") \\\n",
    "    .option(\"kafka.bootstrap.servers\", \"127.0.0.1:9092\") \\\n",
    "    .option(\"subscribe\", topic) \\\n",
    "    .load()\n",
    "\n",
    "\n",
    "# Converting the value from the kafka data stream to string\n",
    "df_flights = df_flights.selectExpr(\"CAST(key AS STRING)\", \"CAST(value AS STRING)\")"
   ]
  },
  {
   "cell_type": "code",
   "execution_count": 4,
   "metadata": {},
   "outputs": [
    {
     "name": "stdout",
     "output_type": "stream",
     "text": [
      "root\n",
      " |-- key: string (nullable = true)\n",
      " |-- value: string (nullable = true)\n",
      "\n"
     ]
    }
   ],
   "source": [
    "df_flights.printSchema()"
   ]
  },
  {
   "cell_type": "markdown",
   "metadata": {},
   "source": [
    "### Transformation into the proper formats"
   ]
  },
  {
   "cell_type": "code",
   "execution_count": 5,
   "metadata": {},
   "outputs": [],
   "source": [
    "# Creating a schema as per our data \n",
    "schema = ArrayType(StructType([\n",
    "    StructField('YEAR',IntegerType(), True),\n",
    "    StructField('MONTH',IntegerType(), True),\n",
    "    StructField('DAY',IntegerType(), True),\n",
    "    StructField('DAY_OF_WEEK',IntegerType(), True),\n",
    "    StructField('AIRLINE',StringType(), True),\n",
    "    StructField('FLIGHT_NUMBER',IntegerType(), True),\n",
    "    StructField('TAIL_NUMBER',StringType(), True),\n",
    "    StructField('ORIGIN_AIRPORT',StringType(), True),\n",
    "    StructField('DESTINATION_AIRPORT',StringType(), True),\n",
    "    StructField('SCHEDULED_DEPARTURE',IntegerType(), True),\n",
    "    StructField('DEPARTURE_TIME',StringType(), True),\n",
    "    StructField('DEPARTURE_DELAY',StringType(), True),\n",
    "    StructField('TAXI_OUT',StringType(), True),\n",
    "    StructField('WHEELS_OFF',StringType(), True),\n",
    "    StructField('SCHEDULED_TIME',StringType(), True),\n",
    "    StructField('ELAPSED_TIME',StringType(), True),\n",
    "    StructField('AIR_TIME',StringType(), True),\n",
    "    StructField('DISTANCE',IntegerType(), True),\n",
    "    StructField('WHEELS_ON',StringType(), True),\n",
    "    StructField('TAXI_IN',StringType(), True),\n",
    "    StructField('SCHEDULED_ARRIVAL',IntegerType(), True),\n",
    "    StructField('ARRIVAL_TIME',StringType(), True),\n",
    "    StructField('ARRIVAL_DELAY',StringType(), True),\n",
    "    StructField('DIVERTED',IntegerType(), True),\n",
    "    StructField('CANCELLED',IntegerType(), True),\n",
    "]))\n"
   ]
  },
  {
   "cell_type": "code",
   "execution_count": 6,
   "metadata": {},
   "outputs": [
    {
     "name": "stdout",
     "output_type": "stream",
     "text": [
      "root\n",
      " |-- parsed_value: array (nullable = true)\n",
      " |    |-- element: struct (containsNull = true)\n",
      " |    |    |-- YEAR: integer (nullable = true)\n",
      " |    |    |-- MONTH: integer (nullable = true)\n",
      " |    |    |-- DAY: integer (nullable = true)\n",
      " |    |    |-- DAY_OF_WEEK: integer (nullable = true)\n",
      " |    |    |-- AIRLINE: string (nullable = true)\n",
      " |    |    |-- FLIGHT_NUMBER: integer (nullable = true)\n",
      " |    |    |-- TAIL_NUMBER: string (nullable = true)\n",
      " |    |    |-- ORIGIN_AIRPORT: string (nullable = true)\n",
      " |    |    |-- DESTINATION_AIRPORT: string (nullable = true)\n",
      " |    |    |-- SCHEDULED_DEPARTURE: integer (nullable = true)\n",
      " |    |    |-- DEPARTURE_TIME: string (nullable = true)\n",
      " |    |    |-- DEPARTURE_DELAY: string (nullable = true)\n",
      " |    |    |-- TAXI_OUT: string (nullable = true)\n",
      " |    |    |-- WHEELS_OFF: string (nullable = true)\n",
      " |    |    |-- SCHEDULED_TIME: string (nullable = true)\n",
      " |    |    |-- ELAPSED_TIME: string (nullable = true)\n",
      " |    |    |-- AIR_TIME: string (nullable = true)\n",
      " |    |    |-- DISTANCE: integer (nullable = true)\n",
      " |    |    |-- WHEELS_ON: string (nullable = true)\n",
      " |    |    |-- TAXI_IN: string (nullable = true)\n",
      " |    |    |-- SCHEDULED_ARRIVAL: integer (nullable = true)\n",
      " |    |    |-- ARRIVAL_TIME: string (nullable = true)\n",
      " |    |    |-- ARRIVAL_DELAY: string (nullable = true)\n",
      " |    |    |-- DIVERTED: integer (nullable = true)\n",
      " |    |    |-- CANCELLED: integer (nullable = true)\n",
      "\n"
     ]
    }
   ],
   "source": [
    "#Use from_json to parse the string to the json format based on the defined schema.\n",
    "#Each message contains the value of the timestamp as \"ts\" field and a random integer value as \"value\" field\n",
    "df_parsed = df_flights.select(F.from_json(F.col(\"value\").cast(\"string\"), schema).alias('parsed_value'))\n",
    "\n",
    "df_parsed.printSchema()"
   ]
  },
  {
   "cell_type": "code",
   "execution_count": 7,
   "metadata": {},
   "outputs": [
    {
     "name": "stdout",
     "output_type": "stream",
     "text": [
      "root\n",
      " |-- value: struct (nullable = true)\n",
      " |    |-- YEAR: integer (nullable = true)\n",
      " |    |-- MONTH: integer (nullable = true)\n",
      " |    |-- DAY: integer (nullable = true)\n",
      " |    |-- DAY_OF_WEEK: integer (nullable = true)\n",
      " |    |-- AIRLINE: string (nullable = true)\n",
      " |    |-- FLIGHT_NUMBER: integer (nullable = true)\n",
      " |    |-- TAIL_NUMBER: string (nullable = true)\n",
      " |    |-- ORIGIN_AIRPORT: string (nullable = true)\n",
      " |    |-- DESTINATION_AIRPORT: string (nullable = true)\n",
      " |    |-- SCHEDULED_DEPARTURE: integer (nullable = true)\n",
      " |    |-- DEPARTURE_TIME: string (nullable = true)\n",
      " |    |-- DEPARTURE_DELAY: string (nullable = true)\n",
      " |    |-- TAXI_OUT: string (nullable = true)\n",
      " |    |-- WHEELS_OFF: string (nullable = true)\n",
      " |    |-- SCHEDULED_TIME: string (nullable = true)\n",
      " |    |-- ELAPSED_TIME: string (nullable = true)\n",
      " |    |-- AIR_TIME: string (nullable = true)\n",
      " |    |-- DISTANCE: integer (nullable = true)\n",
      " |    |-- WHEELS_ON: string (nullable = true)\n",
      " |    |-- TAXI_IN: string (nullable = true)\n",
      " |    |-- SCHEDULED_ARRIVAL: integer (nullable = true)\n",
      " |    |-- ARRIVAL_TIME: string (nullable = true)\n",
      " |    |-- ARRIVAL_DELAY: string (nullable = true)\n",
      " |    |-- DIVERTED: integer (nullable = true)\n",
      " |    |-- CANCELLED: integer (nullable = true)\n",
      "\n"
     ]
    }
   ],
   "source": [
    "flightsDf = df_parsed.select(F.explode(F.col(\"parsed_value\")).alias('value'))\n",
    "\n",
    "flightsDf.printSchema()"
   ]
  },
  {
   "cell_type": "markdown",
   "metadata": {},
   "source": [
    "### Persisting the transformed streaming data"
   ]
  },
  {
   "cell_type": "code",
   "execution_count": 11,
   "metadata": {},
   "outputs": [],
   "source": [
    "flights_query = flightsDf.writeStream.format(\"parquet\")\\\n",
    "        .outputMode(\"append\")\\\n",
    "        .option(\"path\", \"flight.parquet\")\\\n",
    "        .option(\"checkpointLocation\", \"flight.parquet/check\")\\\n",
    "        .start()\n"
   ]
  },
  {
   "cell_type": "code",
   "execution_count": null,
   "metadata": {},
   "outputs": [],
   "source": [
    "#Stop the file_sink query\n",
    "flights_query.stop()"
   ]
  },
  {
   "cell_type": "code",
   "execution_count": 12,
   "metadata": {},
   "outputs": [],
   "source": [
    "# Read the saved parquet data\n",
    "flights_query = spark.read.parquet(\"flight.parquet\")"
   ]
  },
  {
   "cell_type": "code",
   "execution_count": 13,
   "metadata": {},
   "outputs": [
    {
     "name": "stdout",
     "output_type": "stream",
     "text": [
      "root\n",
      " |-- value: struct (nullable = true)\n",
      " |    |-- YEAR: integer (nullable = true)\n",
      " |    |-- MONTH: integer (nullable = true)\n",
      " |    |-- DAY: integer (nullable = true)\n",
      " |    |-- DAY_OF_WEEK: integer (nullable = true)\n",
      " |    |-- AIRLINE: string (nullable = true)\n",
      " |    |-- FLIGHT_NUMBER: integer (nullable = true)\n",
      " |    |-- TAIL_NUMBER: string (nullable = true)\n",
      " |    |-- ORIGIN_AIRPORT: string (nullable = true)\n",
      " |    |-- DESTINATION_AIRPORT: string (nullable = true)\n",
      " |    |-- SCHEDULED_DEPARTURE: integer (nullable = true)\n",
      " |    |-- DEPARTURE_TIME: string (nullable = true)\n",
      " |    |-- DEPARTURE_DELAY: string (nullable = true)\n",
      " |    |-- TAXI_OUT: string (nullable = true)\n",
      " |    |-- WHEELS_OFF: string (nullable = true)\n",
      " |    |-- SCHEDULED_TIME: string (nullable = true)\n",
      " |    |-- ELAPSED_TIME: string (nullable = true)\n",
      " |    |-- AIR_TIME: string (nullable = true)\n",
      " |    |-- DISTANCE: integer (nullable = true)\n",
      " |    |-- WHEELS_ON: string (nullable = true)\n",
      " |    |-- TAXI_IN: string (nullable = true)\n",
      " |    |-- SCHEDULED_ARRIVAL: integer (nullable = true)\n",
      " |    |-- ARRIVAL_TIME: string (nullable = true)\n",
      " |    |-- ARRIVAL_DELAY: string (nullable = true)\n",
      " |    |-- DIVERTED: integer (nullable = true)\n",
      " |    |-- CANCELLED: integer (nullable = true)\n",
      "\n"
     ]
    }
   ],
   "source": [
    "flights_query.printSchema()"
   ]
  }
 ],
 "metadata": {
  "kernelspec": {
   "display_name": "Python 3",
   "language": "python",
   "name": "python3"
  },
  "language_info": {
   "codemirror_mode": {
    "name": "ipython",
    "version": 3
   },
   "file_extension": ".py",
   "mimetype": "text/x-python",
   "name": "python",
   "nbconvert_exporter": "python",
   "pygments_lexer": "ipython3",
   "version": "3.8.2"
  }
 },
 "nbformat": 4,
 "nbformat_minor": 4
}
